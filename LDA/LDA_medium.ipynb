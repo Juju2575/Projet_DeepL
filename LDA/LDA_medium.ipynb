{
 "cells": [
  {
   "cell_type": "code",
   "execution_count": 19,
   "metadata": {},
   "outputs": [],
   "source": [
    "import pandas as pd\n",
    "import numpy as np\n",
    "import numpy.random as alea\n",
    "import seaborn as sns\n",
    "from collections import Counter"
   ]
  },
  {
   "cell_type": "code",
   "execution_count": 5,
   "metadata": {},
   "outputs": [
    {
     "data": {
      "text/html": [
       "<div>\n",
       "<style scoped>\n",
       "    .dataframe tbody tr th:only-of-type {\n",
       "        vertical-align: middle;\n",
       "    }\n",
       "\n",
       "    .dataframe tbody tr th {\n",
       "        vertical-align: top;\n",
       "    }\n",
       "\n",
       "    .dataframe thead th {\n",
       "        text-align: right;\n",
       "    }\n",
       "</style>\n",
       "<table border=\"1\" class=\"dataframe\">\n",
       "  <thead>\n",
       "    <tr style=\"text-align: right;\">\n",
       "      <th></th>\n",
       "      <th>title</th>\n",
       "      <th>text</th>\n",
       "      <th>url</th>\n",
       "      <th>authors</th>\n",
       "      <th>timestamp</th>\n",
       "      <th>tags</th>\n",
       "    </tr>\n",
       "  </thead>\n",
       "  <tbody>\n",
       "    <tr>\n",
       "      <th>0</th>\n",
       "      <td>Mental Note Vol. 24</td>\n",
       "      <td>Photo by Josh Riemer on Unsplash\\n\\nMerry Chri...</td>\n",
       "      <td>https://medium.com/invisible-illness/mental-no...</td>\n",
       "      <td>['Ryan Fan']</td>\n",
       "      <td>2020-12-26 03:38:10.479000+00:00</td>\n",
       "      <td>['Mental Health', 'Health', 'Psychology', 'Sci...</td>\n",
       "    </tr>\n",
       "    <tr>\n",
       "      <th>1</th>\n",
       "      <td>Your Brain On Coronavirus</td>\n",
       "      <td>Your Brain On Coronavirus\\n\\nA guide to the cu...</td>\n",
       "      <td>https://medium.com/age-of-awareness/how-the-pa...</td>\n",
       "      <td>['Simon Spichak']</td>\n",
       "      <td>2020-09-23 22:10:17.126000+00:00</td>\n",
       "      <td>['Mental Health', 'Coronavirus', 'Science', 'P...</td>\n",
       "    </tr>\n",
       "    <tr>\n",
       "      <th>2</th>\n",
       "      <td>Mind Your Nose</td>\n",
       "      <td>Mind Your Nose\\n\\nHow smell training can chang...</td>\n",
       "      <td>https://medium.com/neodotlife/mind-your-nose-f...</td>\n",
       "      <td>[]</td>\n",
       "      <td>2020-10-10 20:17:37.132000+00:00</td>\n",
       "      <td>['Biotechnology', 'Neuroscience', 'Brain', 'We...</td>\n",
       "    </tr>\n",
       "    <tr>\n",
       "      <th>3</th>\n",
       "      <td>The 4 Purposes of Dreams</td>\n",
       "      <td>Passionate about the synergy between science a...</td>\n",
       "      <td>https://medium.com/science-for-real/the-4-purp...</td>\n",
       "      <td>['Eshan Samaranayake']</td>\n",
       "      <td>2020-12-21 16:05:19.524000+00:00</td>\n",
       "      <td>['Health', 'Neuroscience', 'Mental Health', 'P...</td>\n",
       "    </tr>\n",
       "    <tr>\n",
       "      <th>4</th>\n",
       "      <td>Surviving a Rod Through the Head</td>\n",
       "      <td>You’ve heard of him, haven’t you? Phineas Gage...</td>\n",
       "      <td>https://medium.com/live-your-life-on-purpose/s...</td>\n",
       "      <td>['Rishav Sinha']</td>\n",
       "      <td>2020-02-26 00:01:01.576000+00:00</td>\n",
       "      <td>['Brain', 'Health', 'Development', 'Psychology...</td>\n",
       "    </tr>\n",
       "  </tbody>\n",
       "</table>\n",
       "</div>"
      ],
      "text/plain": [
       "                              title  \\\n",
       "0               Mental Note Vol. 24   \n",
       "1         Your Brain On Coronavirus   \n",
       "2                    Mind Your Nose   \n",
       "3          The 4 Purposes of Dreams   \n",
       "4  Surviving a Rod Through the Head   \n",
       "\n",
       "                                                text  \\\n",
       "0  Photo by Josh Riemer on Unsplash\\n\\nMerry Chri...   \n",
       "1  Your Brain On Coronavirus\\n\\nA guide to the cu...   \n",
       "2  Mind Your Nose\\n\\nHow smell training can chang...   \n",
       "3  Passionate about the synergy between science a...   \n",
       "4  You’ve heard of him, haven’t you? Phineas Gage...   \n",
       "\n",
       "                                                 url                 authors  \\\n",
       "0  https://medium.com/invisible-illness/mental-no...            ['Ryan Fan']   \n",
       "1  https://medium.com/age-of-awareness/how-the-pa...       ['Simon Spichak']   \n",
       "2  https://medium.com/neodotlife/mind-your-nose-f...                      []   \n",
       "3  https://medium.com/science-for-real/the-4-purp...  ['Eshan Samaranayake']   \n",
       "4  https://medium.com/live-your-life-on-purpose/s...        ['Rishav Sinha']   \n",
       "\n",
       "                          timestamp  \\\n",
       "0  2020-12-26 03:38:10.479000+00:00   \n",
       "1  2020-09-23 22:10:17.126000+00:00   \n",
       "2  2020-10-10 20:17:37.132000+00:00   \n",
       "3  2020-12-21 16:05:19.524000+00:00   \n",
       "4  2020-02-26 00:01:01.576000+00:00   \n",
       "\n",
       "                                                tags  \n",
       "0  ['Mental Health', 'Health', 'Psychology', 'Sci...  \n",
       "1  ['Mental Health', 'Coronavirus', 'Science', 'P...  \n",
       "2  ['Biotechnology', 'Neuroscience', 'Brain', 'We...  \n",
       "3  ['Health', 'Neuroscience', 'Mental Health', 'P...  \n",
       "4  ['Brain', 'Health', 'Development', 'Psychology...  "
      ]
     },
     "execution_count": 5,
     "metadata": {},
     "output_type": "execute_result"
    }
   ],
   "source": [
    "articles_df = pd.read_csv('./datasets/medium_articles.csv')\n",
    "articles_df.head(5)"
   ]
  },
  {
   "cell_type": "code",
   "execution_count": 6,
   "metadata": {},
   "outputs": [
    {
     "name": "stdout",
     "output_type": "stream",
     "text": [
      "<class 'pandas.core.frame.DataFrame'>\n",
      "RangeIndex: 192368 entries, 0 to 192367\n",
      "Data columns (total 6 columns):\n",
      " #   Column     Non-Null Count   Dtype \n",
      "---  ------     --------------   ----- \n",
      " 0   title      192363 non-null  object\n",
      " 1   text       192368 non-null  object\n",
      " 2   url        192368 non-null  object\n",
      " 3   authors    192368 non-null  object\n",
      " 4   timestamp  192366 non-null  object\n",
      " 5   tags       192368 non-null  object\n",
      "dtypes: object(6)\n",
      "memory usage: 8.8+ MB\n"
     ]
    }
   ],
   "source": [
    "articles_df.info()"
   ]
  },
  {
   "cell_type": "code",
   "execution_count": 7,
   "metadata": {},
   "outputs": [],
   "source": [
    "articles_df = articles_df.dropna()"
   ]
  },
  {
   "cell_type": "code",
   "execution_count": 8,
   "metadata": {},
   "outputs": [
    {
     "data": {
      "text/plain": [
       "192361"
      ]
     },
     "execution_count": 8,
     "metadata": {},
     "output_type": "execute_result"
    }
   ],
   "source": [
    "articles_df.shape[0]"
   ]
  },
  {
   "cell_type": "code",
   "execution_count": 14,
   "metadata": {},
   "outputs": [
    {
     "data": {
      "text/plain": [
       "0         ['Mental Health', 'Health', 'Psychology', 'Sci...\n",
       "1         ['Mental Health', 'Coronavirus', 'Science', 'P...\n",
       "2         ['Biotechnology', 'Neuroscience', 'Brain', 'We...\n",
       "3         ['Health', 'Neuroscience', 'Mental Health', 'P...\n",
       "4         ['Brain', 'Health', 'Development', 'Psychology...\n",
       "                                ...                        \n",
       "192363    ['Cleaning', 'Cleaning Services', 'Cleaning Co...\n",
       "192364                  ['Bedding', 'Cleaning', 'Maintain']\n",
       "192365    ['Cleaning', 'End Of Lease Cleaning', 'Cleaners']\n",
       "192366    ['Romania', 'Language Learning', 'Storyofmylife']\n",
       "192367    ['Hong Kong', 'Cantonese', 'Language Learning'...\n",
       "Name: tags, Length: 192361, dtype: object"
      ]
     },
     "execution_count": 14,
     "metadata": {},
     "output_type": "execute_result"
    }
   ],
   "source": [
    "articles_df[\"tags\"]"
   ]
  },
  {
   "cell_type": "code",
   "execution_count": 46,
   "metadata": {},
   "outputs": [
    {
     "name": "stdout",
     "output_type": "stream",
     "text": [
      "78636\n",
      "45\n"
     ]
    }
   ],
   "source": [
    "all_tags = [tag for tags_list in articles_df[\"tags\"] for tag in eval(tags_list)]\n",
    "d_tags_counter = Counter(all_tags)\n",
    "\n",
    "tags, freqs = list(zip(*d_tags_counter.most_common()))\n",
    "print(len(tags))\n",
    "print(freqs[2000]) # The first 2000 tags appear at least 45 times"
   ]
  },
  {
   "cell_type": "code",
   "execution_count": 48,
   "metadata": {},
   "outputs": [
    {
     "name": "stdout",
     "output_type": "stream",
     "text": [
      "2776\n"
     ]
    }
   ],
   "source": [
    "min_freq = 30\n",
    "found = False\n",
    "i = 0\n",
    "while not(found):\n",
    "    if freqs[i] < min_freq:\n",
    "        found = True\n",
    "    else:\n",
    "        i+=1\n",
    "print(i)\n",
    "tags = tags[:i]\n",
    "freqs = freqs[:i]"
   ]
  },
  {
   "cell_type": "code",
   "execution_count": null,
   "metadata": {},
   "outputs": [],
   "source": []
  },
  {
   "cell_type": "code",
   "execution_count": 9,
   "metadata": {},
   "outputs": [
    {
     "name": "stderr",
     "output_type": "stream",
     "text": [
      "[nltk_data] Downloading package stopwords to\n",
      "[nltk_data]     C:\\Users\\llapi\\AppData\\Roaming\\nltk_data...\n",
      "[nltk_data]   Unzipping corpora\\stopwords.zip.\n"
     ]
    },
    {
     "data": {
      "text/plain": [
       "True"
      ]
     },
     "execution_count": 9,
     "metadata": {},
     "output_type": "execute_result"
    }
   ],
   "source": [
    "from gensim import corpora, models, similarities\n",
    "from nltk.tokenize import RegexpTokenizer\n",
    "from nltk.corpus import stopwords\n",
    "from nltk import download\n",
    "download('stopwords')"
   ]
  },
  {
   "cell_type": "code",
   "execution_count": 10,
   "metadata": {},
   "outputs": [],
   "source": [
    "#Concatenating the articles titles and bodies\n",
    "articles_content = (articles_df['title'] + ' ' + articles_df['body']).tolist()"
   ]
  },
  {
   "cell_type": "code",
   "execution_count": 11,
   "metadata": {},
   "outputs": [],
   "source": [
    "#Loading a set of English stopwords\n",
    "english_stopset_1 = set(stopwords.words('english')).union(\n",
    "                  {\"things\", \"that's\", \"there's\", \"something\", \"take\", \"don't\", \"don\", \"may\", \n",
    "                   \"set\", \"might\", \"says\", \"including\", \"lot\", \"much\", \"said\", \"know\", \"want\",\n",
    "                   \"good\", \"step\", \"often\", \"going\", \"thing\", \"things\", \"think\", \"you're\",\n",
    "                   \"back\", \"actually\", \"better\", \"look\", \"find\", \"right\", \"example\", \n",
    "                   \"verb\", \"verbs\", \"even\", \"could\", \"can\", \"get\", \"show\", \"new\",\n",
    "                   \"get\", \"first\", \"two\", \"really\", \"way\", \"say\", \"percent\", \"many\",\n",
    "                   \"see\", \"use\", \"word\", \"words\", \"us\", \"make\", \"need\", \"never\", \"love\",\n",
    "                   \"see\", \"life\", \"go\", \"day\", \"play\", \"group\", \"former\",\"according\", \"year\",\n",
    "                   \"feel\", \"family\", \"thought\", \"story\", \"kind\", \"great\", \"felt\",\n",
    "                   \"games\", \"city\", \"cities\", \"body\", \"night\", \"light\", \"girl\", \"friend\",\n",
    "                   \"real\", \"person\", \"people\", \"big\", \"long\"})"
   ]
  },
  {
   "cell_type": "code",
   "execution_count": 12,
   "metadata": {},
   "outputs": [
    {
     "name": "stdout",
     "output_type": "stream",
     "text": [
      "['i', 'me', 'my', 'myself', 'we', 'our', 'ours', 'ourselves', 'you', \"you're\", \"you've\", \"you'll\", \"you'd\", 'your', 'yours', 'yourself', 'yourselves', 'he', 'him', 'his', 'himself', 'she', \"she's\", 'her', 'hers', 'herself', 'it', \"it's\", 'its', 'itself', 'they', 'them', 'their', 'theirs', 'themselves', 'what', 'which', 'who', 'whom', 'this', 'that', \"that'll\", 'these', 'those', 'am', 'is', 'are', 'was', 'were', 'be', 'been', 'being', 'have', 'has', 'had', 'having', 'do', 'does', 'did', 'doing', 'a', 'an', 'the', 'and', 'but', 'if', 'or', 'because', 'as', 'until', 'while', 'of', 'at', 'by', 'for', 'with', 'about', 'against', 'between', 'into', 'through', 'during', 'before', 'after', 'above', 'below', 'to', 'from', 'up', 'down', 'in', 'out', 'on', 'off', 'over', 'under', 'again', 'further', 'then', 'once', 'here', 'there', 'when', 'where', 'why', 'how', 'all', 'any', 'both', 'each', 'few', 'more', 'most', 'other', 'some', 'such', 'no', 'nor', 'not', 'only', 'own', 'same', 'so', 'than', 'too', 'very', 's', 't', 'can', 'will', 'just', 'don', \"don't\", 'should', \"should've\", 'now', 'd', 'll', 'm', 'o', 're', 've', 'y', 'ain', 'aren', \"aren't\", 'couldn', \"couldn't\", 'didn', \"didn't\", 'doesn', \"doesn't\", 'hadn', \"hadn't\", 'hasn', \"hasn't\", 'haven', \"haven't\", 'isn', \"isn't\", 'ma', 'mightn', \"mightn't\", 'mustn', \"mustn't\", 'needn', \"needn't\", 'shan', \"shan't\", 'shouldn', \"shouldn't\", 'wasn', \"wasn't\", 'weren', \"weren't\", 'won', \"won't\", 'wouldn', \"wouldn't\"]\n"
     ]
    }
   ],
   "source": [
    "print(stopwords.words('english'))"
   ]
  },
  {
   "cell_type": "code",
   "execution_count": 13,
   "metadata": {},
   "outputs": [
    {
     "name": "stdout",
     "output_type": "stream",
     "text": [
      "{'elsewhere', 'zero', 'you', 'gave', 'mill', 'where', 'pp', 'actually', 'neither', 'mostly', 'obviously', \"haven't\", 'somewhat', 'will', 'find', 'each', 'getting', \"that's\", 'auth', 'seriously', 'group', 'thanks', 'keys', 'normally', 'shall', 'them', 'too', 'saw', 'year', 'nothing', 'ignored', 'next', 's', 'immediately', 'who', 'quite', 'fairly', 'inward', 'herse', 'people', 'less', 'com', 'lot', 'again', 'other', 'six', 'thing', 'hereafter', \"'ve\", 'whos', 'whim', 'primarily', 'also', 've', 'doing', 'serious', 'step', 'anything', 'this', 'among', 'upon', 'saying', 'twelve', 'whenever', 'respectively', 'affects', 'significantly', 'neverf', 'did', 'by', \"doesn't\", 'sub', 'won', 'concerning', 'haven', 'eighty', 'day', 'changes', 'meanwhile', 'nos', 'reasonably', 'best', 'sometime', 'things', 'gives', 'approximately', 'information', 'never', 'affected', 'proud', 'q', \"i'd\", 'u', \"that've\", 'forth', \"weren't\", 'promptly', 'related', 'slightly', 'contains', 'whatever', 'particular', \"i've\", 'million', 'between', 'third', 'be', 'before', 'thru', 'verbs', 'gotten', 'whats', 'behind', 'im', 'mean', 'indicated', 'formerly', 'here', 'such', 'moreover', 'overall', 'substantially', 'p', 'become', 'becoming', 'sometimes', 'used', 'ups', 'enough', 'thick', 'apart', 'thirty', 'myse', 'asking', 'inc', 'amongst', 'we', 'hither', 'well', 'ah', 'story', 'take', 'ord', 'sup', 'go', 'sixty', 'another', 'I', 'must', 'caption', \"hasn't\", 'thus', 'ourselves', 'should', 'and', 'what', 'm', 'beside', 'might', 'various', 'even', 'comes', 'but', 'w', 'under', 'placed', 'much', 'makes', 'shouldn', \"needn't\", \"who's\", 'have', 'right', \"we're\", 'cause', 'using', 'anyways', 'lower', 'yours', 'r', 'minus', 'tries', 'didn', 'necessary', 'nowhere', 'own', 'readily', 'eg', 'effect', 'becomes', 'our', 'soon', 'page', 'looks', 'cities', 'secondly', 'abst', 'with', \"here's\", 'whereafter', 'several', \"we'll\", 'hid', 'appreciate', 'hes', 'currently', 'thousand', 'until', 'arent', 'except', \"he's\", 'every', 'thereupon', \"there've\", 'wonder', 'possibly', 'same', 'mine', \"wouldn't\", 'part', 'eight', 'mustn', 'whose', 'thoroughly', 'anywhere', 'thence', 'onto', \"c's\", \"hadn't\", 'just', 'fill', 'successfully', 'vols', 'wherever', 'made', 'at', 'present', 'greetings', 't', 'others', 're', \"that'll\", 'shes', 'seem', 'ca', 'outside', 'anyway', 'throughout', 'tip', 'while', 'keeps', 'anymore', 'rd', 'importance', 'itd', 'whod', 'downwards', 'almost', \"they're\", 'giving', 'taking', 'whilst', 'wed', 'herself', 'old', 'somethan', 'co', 'aside', \"they've\", 'indicate', 'said', 'unless', 'possible', 'fifteen', 'beyond', 'liked', 'added', 'afterwards', \"they'd\", 'via', 'thereafter', 'so', 'are', 'of', 'novel', 'nay', 'ending', 'now', 'directly', 'exactly', 'everyone', 'though', 'cant', 'least', 'through', 'h', 'tell', 'cry', 'family', \"there're\", 'namely', 'adj', 'contain', 'useful', 'g', 'con', 'doesn', 'taken', 'potentially', 'toward', 'fifth', 'inasmuch', 'without', 'kept', 'act', 'available', 'dare', 'need', 'found', 'either', \"don't\", 'alone', 'specifying', 'usually', 'results', 'thoughh', 'perhaps', 'am', 'index', \"you'd\", \"shan't\", 'life', \"mayn't\", 'predominantly', 'appear', 'backward', 'help', 'hi', 'move', 'twenty', \"he'd\", 'lets', 'nearly', 'nd', 'consequently', 'sorry', 'oh', 'per', 'forever', 'value', 'amid', 'which', 'therere', 'home', 'back', 'hundred', \"i'm\", 'versus', 'already', 'whichever', 'invention', 'do', 'is', 'thank', 'ie', 'someday', 'ask', 'out', 'indeed', \"one's\", 'section', 'play', 'course', 'let', 'seemed', 'specifically', 'ten', 'three', 'state', 'previously', 'alongside', 'myself', 'ninety', 'hasn', 'any', \"c'mon\", 'poorly', 'lest', 'became', 'one', 'otherwise', 'vol', 'definitely', 'thou', 'make', 'describe', 'meantime', 'clearly', 'about', 'given', 'begin', 'it', 'unto', 'couldnt', \"she'll\", 'all', 'neverless', 'whole', 'twice', 'tends', 'i', \"t's\", 'ts', 'latter', 'light', 'upwards', 'once', 'sufficiently', 'farther', 'often', \"it'll\", 'brief', 'allow', \"can't\", 'try', 'important', 'trying', 'heres', 'similar', 'kind', 'an', 'over', 'example', 'ref', 'nine', 'www', 'beginning', 'consider', 'or', 'aren', 'appropriate', 'from', 'done', 'unlikely', 'four', 'obtained', \"who'd\", 'me', 'please', 'gets', 'hereby', 'ours', 'besides', 'vs', 'friend', 'across', 'pages', 'wants', 'my', 'no-one', 'says', 'itse', 'yet', 'ex', 'thereby', 'near', 'able', 'whereby', 'to', 'hers', 'amidst', 'hereupon', 'ed', 'seen', 'city', 'computer', 'likely', 'as', 'howbeit', 'obtain', 'anybody', 'fire', 'considering', 'nevertheless', 'means', 'v', \"how's\", 'including', 'everything', 'thats', 'around', 'ago', 'begins', 'eleven', 'since', 'et', \"when's\", 'wherein', 'both', 'self', 'only', 'provides', 'else', 'thought', 'lately', 'thered', 'ever', 'tried', \"i'll\", 'got', 'along', 'containing', 'round', 'two', 'long', 'que', 'accordance', 'somehow', 'percent', 'whither', 'likewise', 'detail', 'keep', 'ml', 'come', 'largely', 'hasnt', 'its', 'someone', 'immediate', 'into', 'within', 'date', 'd', 'furthermore', 'having', 'nobody', 'selves', 'theres', 'mg', 'set', 'further', 'shows', \"you've\", 'na', \"they'll\", 'mainly', 'ones', 'seems', 'went', 'probably', 'sincere', 'system', 'biol', 'ran', 'evermore', 'how', 'certainly', 'knows', 'abroad', 'whomever', 'e', 'owing', 'widely', 'few', 'give', \"aren't\", 'following', 'herein', 'indicates', \"she's\", \"mightn't\", 'arise', 'on', 'new', \"it'd\", 'most', 'very', \"there'll\", 'unlike', 'shed', 'something', 'front', \"isn't\", 'if', 'more', 'don', 'kg', 'undoing', 'wasn', 'underneath', 'isn', 'the', 'b', 'last', 'x', 'hardly', 'recent', 'research', 'usefulness', 'call', 'some', 'everybody', 'mug', 'anyhow', 'being', 'although', 'low', 'specify', 'bottom', 'no', 'gone', \"there's\", 'those', 'ff', 'known', 'willing', 'had', 'believe', 'maybe', \"he'll\", 'past', 'little', 'km', \"shouldn't\", 'thereof', 'were', \"should've\", 'z', 'feel', \"you'll\", 'suggest', 'mr', 'say', 'accordingly', 'person', 'entirely', 'games', 'whereas', 'apparently', 'his', 'none', \"let's\", 'yes', 'than', 'described', 'omitted', \"what'll\", 'has', 'verb', 'sent', 'better', 'whom', 'latterly', 'plus', 'not', 'would', 'ain', \"a's\", 'looking', 'certain', 'ok', 'world', \"we'd\", 'despite', 'everywhere', 'good', 'theyd', 'okay', \"won't\", 'line', 'beginnings', 'he', \"what's\", 'against', \"you're\", 'due', 'interest', 'show', 'theyre', 'put', \"oughtn't\", 'refs', 'cannot', 'first', 'specified', 'going', \"'ll\", \"daren't\", 'below', 'k', 'above', 'name', 'half', 'especially', 'inside', 'uucp', 'goes', 'want', 'thin', 'n', 'can', 'big', 'been', 'yourselves', 'a', 'does', 'non', 'empty', 'sure', 'states', 'o', 'anyone', 'follows', 'off', 'use', 'edu', 'affecting', 'et-al', 'way', 'however', 'full', 'announce', 'took', 'us', 'id', 'somewhere', 'particularly', 'great', 'see', 'regarding', 'came', 'like', 'recently', \"there'd\", 'usefully', 'throug', 'hopefully', 'according', 'then', 'hence', 'qv', 'inner', 'welcome', 'hadn', 'll', \"who'll\", \"didn't\", 'down', 'mrs', 'forty', 'l', 'therein', \"what've\", 'himse', 'necessarily', 'resulting', 'similarly', 'causes', 'itself', 'viz', 'stop', 'couldn', 'run', 'un', 'noone', \"she'd\", 'himself', 'that', 'allows', 'adopted', 'far', 'for', 'him', 'corresponding', 'towards', 'felt', \"mustn't\", 'notwithstanding', 'up', 'strongly', 'th', 'wheres', 'seeing', 'in', 'could', 'wouldn', 'ahead', 'together', \"why's\", 'shan', 'presumably', 'girl', 'regardless', 'youd', 'needn', 'quickly', 'many', 'opposite', 'think', 'she', 'therefore', 'after', 'showed', 'side', 'rather', 'hello', 'instead', 'nonetheless', 'former', 'really', 'y', 'thanx', 'thereto', 'beforehand', 'inc.', 'seeming', 'uses', 'words', 'mightn', 'because', 'insofar', 'know', 'backwards', \"where's\", 'significant', 'regards', 'body', 'sec', 'fewer', 'followed', 'night', 'was', 'thorough', 'c', 'noted', 'co.', 'ltd', \"ain't\", 'bill', 'theirs', 'always', 'get', 'your', 'yourself', 'during', 'when', 'needs', 'provided', 'de', \"couldn't\", 'whence', 'end', 'merely', 'they', 'amount', \"it's\", 'ma', 'fifty', 'there', 'shown', 'weren', 'second', 'seven', 'resulted', 'whether', 'happens', 'unfortunately', 'word', 'these', 'why', 'sensible', 'themselves', 'look', 'whoever', 'truly', 'ought', 'etc', 'real', 'associated', 'miss', \"wasn't\", 'till', 'wish', 'fix', 'still', 'whereupon', 'j', 'til', 'forward', 'later', 'showns', 'their', 'five', 'awfully', 'away', 'relatively', 'different', 'somebody', 'her', 'briefly', 'love', 'top', 'nor', 'f', \"we've\", 'may'}\n"
     ]
    }
   ],
   "source": [
    "# Importing a larger list of stopwords\n",
    "with open(\"./eng_stopwords.txt\", \"r\") as f:\n",
    "    eng_stopwords = f.readlines()\n",
    "    #print(eng_stopwords)\n",
    "\n",
    "for i in range(len(eng_stopwords)):\n",
    "    eng_stopwords[i] = eng_stopwords[i][:-1]\n",
    "\n",
    "english_stopset_2 = set(eng_stopwords).union(english_stopset_1)\n",
    "print(english_stopset_2)"
   ]
  },
  {
   "cell_type": "code",
   "execution_count": 14,
   "metadata": {},
   "outputs": [],
   "source": [
    "#Tokenizing words of articles\n",
    "tokenizer = RegexpTokenizer(r\"(?u)[\\b\\#a-zA-Z][\\w&-_]+\\b\")\n",
    "articles_tokens = list(map(lambda d: [token for token in tokenizer.tokenize(d.lower()) if token not in english_stopset_2], articles_content))"
   ]
  },
  {
   "cell_type": "code",
   "execution_count": 15,
   "metadata": {},
   "outputs": [],
   "source": [
    "#Processing bigrams from unigrams (sets of two works frequently together in the corpus)\n",
    "bigram_transformer = models.Phrases(articles_tokens)\n",
    "articles_unigrams_bigrams_tokens = list(bigram_transformer[articles_tokens])"
   ]
  },
  {
   "cell_type": "code",
   "execution_count": 16,
   "metadata": {},
   "outputs": [
    {
     "name": "stdout",
     "output_type": "stream",
     "text": [
      "[('women', 5455), ('trump', 4857), ('students', 3141), ('company', 3013), ('school', 2683), ('u.s', 2435), ('children', 2076), ('president', 2041), ('country', 2002), ('art', 1980), ('public', 1870), ('american', 1853), ('support', 1821), ('place', 1808), ('education', 1781), ('change', 1747), ('schools', 1728), ('woman', 1713), ('times', 1683), ('men', 1667), ('man', 1644), ('today', 1625), ('facebook', 1605), ('case', 1584), ('york', 1581), ('wrote', 1557), ('statement', 1548), ('making', 1528), ('power', 1514), ('asked', 1506), ('report', 1498), ('america', 1459), ('book', 1422), ('news', 1422), ('working', 1409), ('team', 1406), ('fact', 1399), ('history', 1373), ('community', 1372), ('white', 1336), ('experience', 1325), ('future', 1321), ('money', 1317), ('left', 1303), ('read', 1293), ('live', 1290), ('days', 1285), ('united', 1279), ('teachers', 1275), ('political', 1273), ('business', 1271), ('national', 1270), ('point', 1263), ('video', 1254), ('program', 1251), ('data', 1251), ('job', 1240), ('number', 1232), ('police', 1199), ('young', 1178), ('companies', 1173), ('parents', 1164), ('reported', 1162), ('kids', 1157), ('idea', 1150), ('month', 1140), ('god', 1137), ('black', 1118), ('face', 1103), ('law', 1103), ('government', 1101), ('talk', 1100), ('wanted', 1099), ('issue', 1076), ('question', 1068), ('process', 1067), ('hope', 1052), ('artists', 1050), ('matter', 1044), ('friends', 1037), ('office', 1030), ('understand', 1030), ('series', 1018), ('human', 1017), ('post', 1016), ('film', 1006), ('stories', 1003), ('start', 1002), ('problem', 1001), ('ways', 997), ('tuesday', 997), ('clear', 993), ('started', 984), ('project', 983), ('members', 981), ('months', 976), ('music', 976), ('university', 973), ('based', 972), ('artist', 971)]\n"
     ]
    }
   ],
   "source": [
    "#### Eventually use pattern librairy\n",
    "\n",
    "#Creating a dictionary and filtering out too rare and too common tokens\n",
    "english_dictionary = corpora.Dictionary(articles_unigrams_bigrams_tokens)\n",
    "english_dictionary.filter_extremes(no_below=5, no_above=0.2, keep_n=None)\n",
    "english_dictionary.compactify()\n",
    "print(english_dictionary.most_common(100))"
   ]
  },
  {
   "cell_type": "code",
   "execution_count": 17,
   "metadata": {},
   "outputs": [],
   "source": [
    "#Processing Bag-of-Words (BoW) for each article\n",
    "articles_bow = [english_dictionary.doc2bow(doc) for doc in articles_unigrams_bigrams_tokens]"
   ]
  },
  {
   "cell_type": "code",
   "execution_count": 18,
   "metadata": {},
   "outputs": [],
   "source": [
    "#Training the LDA topic model on English articles\n",
    "lda_model = models.LdaModel(articles_bow, id2word=english_dictionary, num_topics=24, passes=15, iterations=1500)"
   ]
  },
  {
   "cell_type": "code",
   "execution_count": 19,
   "metadata": {},
   "outputs": [],
   "source": [
    "#Processing the topics for each article\n",
    "articles_lda = lda_model[articles_bow]"
   ]
  },
  {
   "cell_type": "code",
   "execution_count": 20,
   "metadata": {},
   "outputs": [
    {
     "name": "stdout",
     "output_type": "stream",
     "text": [
      "<gensim.interfaces.TransformedCorpus object at 0x000001B4AD5909A0>\n"
     ]
    }
   ],
   "source": [
    "print(articles_lda)"
   ]
  },
  {
   "cell_type": "code",
   "execution_count": 21,
   "metadata": {},
   "outputs": [],
   "source": [
    "def get_topics_top_words(model, max_words):\n",
    "    all_topics = model.show_topics(-1, max_words*2, False, False)\n",
    "    topics = []\n",
    "    for topic in all_topics:    \n",
    "        min_score_word = float(abs(topic[1][0][1])) / 10.\n",
    "        top_positive_words = list(map(lambda y: y[0].replace('_',' '), filter(lambda x: x[1] > min_score_word, topic[1])))[0:max_words]\n",
    "        topics.append('[' + ', '.join(top_positive_words) + ']')\n",
    "    return topics\n",
    "\n",
    "#Computing the main topic of each article\n",
    "topics_top_words = get_topics_top_words(lda_model, 7)"
   ]
  },
  {
   "cell_type": "code",
   "execution_count": 22,
   "metadata": {},
   "outputs": [
    {
     "data": {
      "text/html": [
       "<div>\n",
       "<style scoped>\n",
       "    .dataframe tbody tr th:only-of-type {\n",
       "        vertical-align: middle;\n",
       "    }\n",
       "\n",
       "    .dataframe tbody tr th {\n",
       "        vertical-align: top;\n",
       "    }\n",
       "\n",
       "    .dataframe thead th {\n",
       "        text-align: right;\n",
       "    }\n",
       "</style>\n",
       "<table border=\"1\" class=\"dataframe\">\n",
       "  <thead>\n",
       "    <tr style=\"text-align: right;\">\n",
       "      <th></th>\n",
       "      <th>topic</th>\n",
       "      <th>count</th>\n",
       "    </tr>\n",
       "  </thead>\n",
       "  <tbody>\n",
       "    <tr>\n",
       "      <th>23</th>\n",
       "      <td>[film, season, movie, man, fans, watch, wanted]</td>\n",
       "      <td>1056</td>\n",
       "    </tr>\n",
       "    <tr>\n",
       "      <th>22</th>\n",
       "      <td>[art, artists, experience, artist, place, book...</td>\n",
       "      <td>798</td>\n",
       "    </tr>\n",
       "    <tr>\n",
       "      <th>21</th>\n",
       "      <td>[trump, president, white house, president dona...</td>\n",
       "      <td>556</td>\n",
       "    </tr>\n",
       "    <tr>\n",
       "      <th>20</th>\n",
       "      <td>[god, human, scientists, water, earth, jesus, ...</td>\n",
       "      <td>535</td>\n",
       "    </tr>\n",
       "    <tr>\n",
       "      <th>19</th>\n",
       "      <td>[data, company, pay, amazon, money, services, ...</td>\n",
       "      <td>453</td>\n",
       "    </tr>\n",
       "    <tr>\n",
       "      <th>18</th>\n",
       "      <td>[children, education, schools, support, commun...</td>\n",
       "      <td>431</td>\n",
       "    </tr>\n",
       "    <tr>\n",
       "      <th>17</th>\n",
       "      <td>[women, men, woman, church, sexual harassment]</td>\n",
       "      <td>422</td>\n",
       "    </tr>\n",
       "    <tr>\n",
       "      <th>16</th>\n",
       "      <td>[facebook, company, apple, case, users, statem...</td>\n",
       "      <td>394</td>\n",
       "    </tr>\n",
       "    <tr>\n",
       "      <th>15</th>\n",
       "      <td>[police, shooting, texas, killed, law enforcem...</td>\n",
       "      <td>393</td>\n",
       "    </tr>\n",
       "    <tr>\n",
       "      <th>14</th>\n",
       "      <td>[country, u.s, america, political, campaign, v...</td>\n",
       "      <td>376</td>\n",
       "    </tr>\n",
       "    <tr>\n",
       "      <th>13</th>\n",
       "      <td>[students, school, schools, teachers, student,...</td>\n",
       "      <td>227</td>\n",
       "    </tr>\n",
       "    <tr>\n",
       "      <th>12</th>\n",
       "      <td>[game, event, photos, snapchat, york, photo, v...</td>\n",
       "      <td>180</td>\n",
       "    </tr>\n",
       "    <tr>\n",
       "      <th>11</th>\n",
       "      <td>[team, business, energy, change, company, futu...</td>\n",
       "      <td>179</td>\n",
       "    </tr>\n",
       "    <tr>\n",
       "      <th>10</th>\n",
       "      <td>[giuliani, times, asked, smith, israel, invest...</td>\n",
       "      <td>156</td>\n",
       "    </tr>\n",
       "    <tr>\n",
       "      <th>9</th>\n",
       "      <td>[nassar, athletes, team, msu, usa gymnastics, ...</td>\n",
       "      <td>152</td>\n",
       "    </tr>\n",
       "    <tr>\n",
       "      <th>8</th>\n",
       "      <td>[video, post shared, pokemon, instagram, post,...</td>\n",
       "      <td>115</td>\n",
       "    </tr>\n",
       "    <tr>\n",
       "      <th>7</th>\n",
       "      <td>[google, technology, tech, company, app, silic...</td>\n",
       "      <td>108</td>\n",
       "    </tr>\n",
       "    <tr>\n",
       "      <th>6</th>\n",
       "      <td>[news, media, social media, talk, talking, job...</td>\n",
       "      <td>102</td>\n",
       "    </tr>\n",
       "    <tr>\n",
       "      <th>5</th>\n",
       "      <td>[las vegas, davis, johnson, police, charlottes...</td>\n",
       "      <td>71</td>\n",
       "    </tr>\n",
       "    <tr>\n",
       "      <th>4</th>\n",
       "      <td>[company, billion, samsung, sales, u.s, market...</td>\n",
       "      <td>59</td>\n",
       "    </tr>\n",
       "    <tr>\n",
       "      <th>3</th>\n",
       "      <td>[uber, black, protest, white, nfl, drivers, pr...</td>\n",
       "      <td>45</td>\n",
       "    </tr>\n",
       "    <tr>\n",
       "      <th>2</th>\n",
       "      <td>[china, tax, u.s, chinese, netflix, countries,...</td>\n",
       "      <td>26</td>\n",
       "    </tr>\n",
       "    <tr>\n",
       "      <th>1</th>\n",
       "      <td>[cosby, trial, graham, jury, reilly, prosecuto...</td>\n",
       "      <td>20</td>\n",
       "    </tr>\n",
       "    <tr>\n",
       "      <th>0</th>\n",
       "      <td>[apple's, sleep, dogs, dog, animals, mccain, cia]</td>\n",
       "      <td>18</td>\n",
       "    </tr>\n",
       "  </tbody>\n",
       "</table>\n",
       "</div>"
      ],
      "text/plain": [
       "                                                topic  count\n",
       "23    [film, season, movie, man, fans, watch, wanted]   1056\n",
       "22  [art, artists, experience, artist, place, book...    798\n",
       "21  [trump, president, white house, president dona...    556\n",
       "20  [god, human, scientists, water, earth, jesus, ...    535\n",
       "19  [data, company, pay, amazon, money, services, ...    453\n",
       "18  [children, education, schools, support, commun...    431\n",
       "17     [women, men, woman, church, sexual harassment]    422\n",
       "16  [facebook, company, apple, case, users, statem...    394\n",
       "15  [police, shooting, texas, killed, law enforcem...    393\n",
       "14  [country, u.s, america, political, campaign, v...    376\n",
       "13  [students, school, schools, teachers, student,...    227\n",
       "12  [game, event, photos, snapchat, york, photo, v...    180\n",
       "11  [team, business, energy, change, company, futu...    179\n",
       "10  [giuliani, times, asked, smith, israel, invest...    156\n",
       "9   [nassar, athletes, team, msu, usa gymnastics, ...    152\n",
       "8   [video, post shared, pokemon, instagram, post,...    115\n",
       "7   [google, technology, tech, company, app, silic...    108\n",
       "6   [news, media, social media, talk, talking, job...    102\n",
       "5   [las vegas, davis, johnson, police, charlottes...     71\n",
       "4   [company, billion, samsung, sales, u.s, market...     59\n",
       "3   [uber, black, protest, white, nfl, drivers, pr...     45\n",
       "2   [china, tax, u.s, chinese, netflix, countries,...     26\n",
       "1   [cosby, trial, graham, jury, reilly, prosecuto...     20\n",
       "0   [apple's, sleep, dogs, dog, animals, mccain, cia]     18"
      ]
     },
     "execution_count": 22,
     "metadata": {},
     "output_type": "execute_result"
    }
   ],
   "source": [
    "def get_main_topics(corpus_lda, topics_labels):\n",
    "    min_strength = (1.0 / float(len(topics_labels)))/10 + 0.01\n",
    "    main_topics = map(lambda ts: sorted(ts, key=lambda t: -t[1])[0][0] if sorted(ts, key=lambda t: -t[1])[0][1] > min_strength else None, corpus_lda)\n",
    "    second_topics = map(lambda ts: sorted(ts, key=lambda t: -t[1])[1][0] if len(sorted(ts, key=lambda t: -t[1])) > 1 else None, corpus_lda)\n",
    "    main_topics_labels = map(lambda x: topics_labels[x] if x != None else '', main_topics)\n",
    "    second_topics_labels = map(lambda x: topics_labels[x] if x != None else '', second_topics)\n",
    "    return list(main_topics_labels), list(second_topics_labels)\n",
    "\n",
    "#Return the discovered topics, sorted by popularity\n",
    "corpus_main_topics, corpus_second_topics = get_main_topics(articles_lda, topics_top_words)\n",
    "\n",
    "main_topics_df = pd.DataFrame(corpus_main_topics, columns=['topic']).groupby('topic').size().sort_values(ascending=True).reset_index()\n",
    "main_topics_df.columns = ['topic','count']\n",
    "main_topics_df.sort_values('count', ascending=False)"
   ]
  },
  {
   "cell_type": "code",
   "execution_count": 23,
   "metadata": {},
   "outputs": [
    {
     "name": "stdout",
     "output_type": "stream",
     "text": [
      "24\n",
      "[god, human, scientists, water, earth, jesus, science]\n",
      "[las vegas, davis, johnson, police, charlottesville, saturday, espn]\n",
      "[police, shooting, texas, killed, law enforcement, death, gun]\n",
      "[women, men, woman, church, sexual harassment]\n",
      "[art, artists, experience, artist, place, book, sense]\n",
      "[video, post shared, pokemon, instagram, post, wrote, domestic violence]\n",
      "[country, u.s, america, political, campaign, vote, muslim]\n",
      "[trump, president, white house, president donald, donald trump, election]\n",
      "[uber, black, protest, white, nfl, drivers, protests]\n",
      "[giuliani, times, asked, smith, israel, investigation, savage]\n",
      "[apple's, sleep, dogs, dog, animals, mccain, cia]\n",
      "[game, event, photos, snapchat, york, photo, video]\n",
      "[children, education, schools, support, community, kids, parents]\n",
      "[facebook, company, apple, case, users, statement, government]\n",
      "[cosby, trial, graham, jury, reilly, prosecutors, judge]\n",
      "[team, business, energy, change, company, future, leaders]\n",
      "[nassar, athletes, team, msu, usa gymnastics, olympic, music]\n",
      "[film, season, movie, man, fans, watch, wanted]\n",
      "[data, company, pay, amazon, money, services, devices]\n",
      "[news, media, social media, talk, talking, job, online]\n",
      "[google, technology, tech, company, app, silicon valley, diversity]\n",
      "[students, school, schools, teachers, student, law, college]\n",
      "[china, tax, u.s, chinese, netflix, countries, ireland]\n",
      "[company, billion, samsung, sales, u.s, market, investors]\n"
     ]
    }
   ],
   "source": [
    "print(len(topics_top_words))\n",
    "\n",
    "for t in topics_top_words:\n",
    "    print(t)"
   ]
  },
  {
   "cell_type": "code",
   "execution_count": 24,
   "metadata": {},
   "outputs": [
    {
     "name": "stdout",
     "output_type": "stream",
     "text": [
      "[film, season, movie, man, fans, watch, wanted]\n",
      "[nassar, athletes, team, msu, usa gymnastics, olympic, music]\n",
      "17\n",
      "16\n",
      "[(6, 0.09932352), (16, 0.29010832), (17, 0.5212079), (19, 0.08277983)]\n"
     ]
    }
   ],
   "source": [
    "cmt1 = corpus_main_topics[1]\n",
    "cst1 = corpus_second_topics[1]\n",
    "print(cmt1)\n",
    "print(cst1)\n",
    "i_cmt1 = topics_top_words.index(cmt1)\n",
    "print(i_cmt1)\n",
    "i_cst1 = topics_top_words.index(cst1)\n",
    "print(i_cst1)\n",
    "print(articles_lda[1])"
   ]
  },
  {
   "cell_type": "code",
   "execution_count": 25,
   "metadata": {},
   "outputs": [
    {
     "name": "stdout",
     "output_type": "stream",
     "text": [
      "SCIENCE\n",
      "Actual Scientists Found That Ayahuasca Can Help You Think More Creatively\n",
      "Ayahuasca, a hallucinogenic brew from the Amazon consumed in religious ceremonies for centuries, has been gaining popularity in Europe and North America as a mind-altering trick to condense years of psychotherapy into a psychedelic trip just a few hours long. Drinking the plant brew, users report, helps gain psychological insight and produce new ideas, among other things.  To those users, it’s not exactly news that a psychedelic can enhance creativity. But in recent years, science has been catch\n",
      "\n",
      "topic group 4\n",
      "[art, artists, experience, artist, place, book, sense]\n",
      "topic group 0\n",
      "[god, human, scientists, water, earth, jesus, science]\n",
      "scores :\n",
      "[(4, 0.3679793), (0, 0.18738489), (18, 0.17072384), (15, 0.12203267), (9, 0.07216805), (20, 0.03809133), (11, 0.020553797), (5, 0.0101013025)]\n"
     ]
    }
   ],
   "source": [
    "n = alea.randint(articles_df.shape[0])\n",
    "#n = 1\n",
    "article = articles_df.iloc[n]\n",
    "print(article['category'])\n",
    "print(article['title'])\n",
    "print(article['body'][:500])\n",
    "print()\n",
    "\n",
    "main_topics = corpus_main_topics[n]\n",
    "second_topics = corpus_second_topics[n]\n",
    "print(\"topic group \" + str(topics_top_words.index(corpus_main_topics[n])))\n",
    "print(main_topics)\n",
    "print(\"topic group \" + str(topics_top_words.index(corpus_second_topics[n])))\n",
    "print(second_topics)\n",
    "print(\"scores :\")\n",
    "print(sorted(articles_lda[n], key=lambda t: -t[1]))"
   ]
  },
  {
   "cell_type": "code",
   "execution_count": 26,
   "metadata": {},
   "outputs": [
    {
     "name": "stdout",
     "output_type": "stream",
     "text": [
      "0 ARTS & CULTURE\n",
      "1 BUSINESS\n",
      "2 COMEDY\n",
      "3 CRIME\n",
      "4 EDUCATION\n",
      "5 ENTERTAINMENT\n",
      "6 ENVIRONMENT\n",
      "7 MEDIA\n",
      "8 POLITICS\n",
      "9 RELIGION\n",
      "10 SCIENCE\n",
      "11 SPORTS\n",
      "12 TECH\n",
      "13 WOMEN\n"
     ]
    }
   ],
   "source": [
    "categories = articles_df[\"category\"].unique()\n",
    "for i in range(len(categories)):\n",
    "    print(str(i) + ' ' + categories[i])"
   ]
  },
  {
   "cell_type": "code",
   "execution_count": 27,
   "metadata": {},
   "outputs": [],
   "source": [
    "CategoryLinks = [12, 9, 3, 4, 6, 5, 13, 2, 8, 3, 8, 4, 7, 1, 8, 11, 0, 5, 2, 8, 0, 9, 3, 13]"
   ]
  },
  {
   "cell_type": "code",
   "execution_count": 28,
   "metadata": {},
   "outputs": [
    {
     "name": "stdout",
     "output_type": "stream",
     "text": [
      "0 [god, human, scientists, water, earth, jesus, science]\n",
      "1 [las vegas, davis, johnson, police, charlottesville, saturday, espn]\n",
      "2 [police, shooting, texas, killed, law enforcement, death, gun]\n",
      "3 [women, men, woman, church, sexual harassment]\n",
      "4 [art, artists, experience, artist, place, book, sense]\n",
      "5 [video, post shared, pokemon, instagram, post, wrote, domestic violence]\n",
      "6 [country, u.s, america, political, campaign, vote, muslim]\n",
      "7 [trump, president, white house, president donald, donald trump, election]\n",
      "8 [uber, black, protest, white, nfl, drivers, protests]\n",
      "9 [giuliani, times, asked, smith, israel, investigation, savage]\n",
      "10 [apple's, sleep, dogs, dog, animals, mccain, cia]\n",
      "11 [game, event, photos, snapchat, york, photo, video]\n",
      "12 [children, education, schools, support, community, kids, parents]\n",
      "13 [facebook, company, apple, case, users, statement, government]\n",
      "14 [cosby, trial, graham, jury, reilly, prosecutors, judge]\n",
      "15 [team, business, energy, change, company, future, leaders]\n",
      "16 [nassar, athletes, team, msu, usa gymnastics, olympic, music]\n",
      "17 [film, season, movie, man, fans, watch, wanted]\n",
      "18 [data, company, pay, amazon, money, services, devices]\n",
      "19 [news, media, social media, talk, talking, job, online]\n",
      "20 [google, technology, tech, company, app, silicon valley, diversity]\n",
      "21 [students, school, schools, teachers, student, law, college]\n",
      "22 [china, tax, u.s, chinese, netflix, countries, ireland]\n",
      "23 [company, billion, samsung, sales, u.s, market, investors]\n"
     ]
    }
   ],
   "source": [
    "for i in range(len(topics_top_words)):\n",
    "    print(str(i) + ' ' + topics_top_words[i])"
   ]
  },
  {
   "cell_type": "code",
   "execution_count": 29,
   "metadata": {},
   "outputs": [
    {
     "name": "stdout",
     "output_type": "stream",
     "text": [
      "6872\n",
      "['ENTERTAINMENT', 'ENTERTAINMENT', 'COMEDY', 'ENTERTAINMENT', 'ENVIRONMENT', 'ENTERTAINMENT', 'ENTERTAINMENT', 'WOMEN', 'RELIGION', 'ENTERTAINMENT', 'ENTERTAINMENT', 'ENTERTAINMENT', 'COMEDY', 'ENVIRONMENT', 'ENTERTAINMENT', 'ENVIRONMENT', 'POLITICS', 'ENTERTAINMENT', 'MEDIA', 'POLITICS', 'ENTERTAINMENT', 'ENVIRONMENT', 'ENTERTAINMENT', 'ENVIRONMENT', 'POLITICS', 'CRIME', 'POLITICS', 'ENTERTAINMENT', 'EDUCATION', 'ENVIRONMENT', 'EDUCATION', 'ENVIRONMENT', 'POLITICS', 'ENVIRONMENT', 'WOMEN', 'POLITICS', 'CRIME', 'ENVIRONMENT', 'ENVIRONMENT', 'ENVIRONMENT', 'EDUCATION', 'ENVIRONMENT', 'ENTERTAINMENT', 'ENTERTAINMENT', 'CRIME', 'MEDIA', 'ENVIRONMENT', 'MEDIA', 'ENVIRONMENT', 'TECH', 'ENVIRONMENT', 'MEDIA', 'TECH', 'WOMEN', 'ENVIRONMENT', 'ENVIRONMENT', 'EDUCATION', 'MEDIA', 'ENVIRONMENT', 'ENVIRONMENT', 'ENTERTAINMENT', 'POLITICS', 'ENVIRONMENT', 'MEDIA', 'POLITICS', 'ENVIRONMENT', 'MEDIA', 'ENVIRONMENT', 'MEDIA', 'ENVIRONMENT', 'ENVIRONMENT', 'ENVIRONMENT', 'POLITICS', 'TECH', 'ENVIRONMENT', 'MEDIA', 'TECH', 'ENVIRONMENT', 'COMEDY', 'ENTERTAINMENT', 'ENTERTAINMENT', 'ENVIRONMENT', 'ENVIRONMENT', 'COMEDY', 'RELIGION', 'ENTERTAINMENT', 'ENVIRONMENT', 'ENVIRONMENT', 'ENVIRONMENT', 'ENVIRONMENT', 'COMEDY', 'COMEDY', 'COMEDY', 'ENVIRONMENT', 'ENVIRONMENT', 'ENVIRONMENT', 'CRIME', 'ENVIRONMENT', 'COMEDY', 'ENVIRONMENT']\n"
     ]
    }
   ],
   "source": [
    "corpus_lda_category_index = [topics_top_words.index(topic) for topic in corpus_main_topics]\n",
    "corpus_lda_category_topics = [str(topic) for topic in corpus_main_topics]\n",
    "\n",
    "corpus_converted_category = [categories[CategoryLinks[i]] for i in corpus_lda_category_index]\n",
    "print(len(corpus_converted_category))\n",
    "print(corpus_converted_category[:100])"
   ]
  },
  {
   "cell_type": "code",
   "execution_count": 30,
   "metadata": {},
   "outputs": [
    {
     "name": "stdout",
     "output_type": "stream",
     "text": [
      "(6872, 3)\n",
      "<class 'pandas.core.frame.DataFrame'>\n",
      "RangeIndex: 6872 entries, 0 to 6871\n",
      "Data columns (total 3 columns):\n",
      " #   Column               Non-Null Count  Dtype \n",
      "---  ------               --------------  ----- \n",
      " 0   computed_category    6872 non-null   object\n",
      " 1   lda_category_index   6872 non-null   int64 \n",
      " 2   lda_category_topics  6872 non-null   object\n",
      "dtypes: int64(1), object(2)\n",
      "memory usage: 161.2+ KB\n"
     ]
    }
   ],
   "source": [
    "converted_category_df = pd.DataFrame(corpus_converted_category, columns=[\"computed_category\"])\n",
    "lda_category_index_df = pd.DataFrame(corpus_lda_category_index, columns=[\"lda_category_index\"])\n",
    "lda_category_topics_df = pd.DataFrame(corpus_lda_category_topics , columns=[\"lda_category_topics\"])\n",
    "new_category_df = pd.concat([converted_category_df, lda_category_index_df, lda_category_topics_df], axis=1)\n",
    "print(new_category_df.shape)\n",
    "new_category_df.info()"
   ]
  },
  {
   "cell_type": "code",
   "execution_count": 31,
   "metadata": {},
   "outputs": [
    {
     "data": {
      "text/html": [
       "<div>\n",
       "<style scoped>\n",
       "    .dataframe tbody tr th:only-of-type {\n",
       "        vertical-align: middle;\n",
       "    }\n",
       "\n",
       "    .dataframe tbody tr th {\n",
       "        vertical-align: top;\n",
       "    }\n",
       "\n",
       "    .dataframe thead th {\n",
       "        text-align: right;\n",
       "    }\n",
       "</style>\n",
       "<table border=\"1\" class=\"dataframe\">\n",
       "  <thead>\n",
       "    <tr style=\"text-align: right;\">\n",
       "      <th></th>\n",
       "      <th>category</th>\n",
       "      <th>title</th>\n",
       "      <th>body</th>\n",
       "      <th>computed_category</th>\n",
       "      <th>lda_category_index</th>\n",
       "      <th>lda_category_topics</th>\n",
       "    </tr>\n",
       "  </thead>\n",
       "  <tbody>\n",
       "    <tr>\n",
       "      <th>0</th>\n",
       "      <td>ARTS &amp; CULTURE</td>\n",
       "      <td>Modeling Agencies Enabled Sexual Predators For...</td>\n",
       "      <td>In October 2017, Carolyn Kramer received a dis...</td>\n",
       "      <td>ENTERTAINMENT</td>\n",
       "      <td>17.0</td>\n",
       "      <td>[film, season, movie, man, fans, watch, wanted]</td>\n",
       "    </tr>\n",
       "    <tr>\n",
       "      <th>1</th>\n",
       "      <td>ARTS &amp; CULTURE</td>\n",
       "      <td>Actor Jeff Hiller Talks “Bright Colors And Bol...</td>\n",
       "      <td>This week I talked with actor Jeff Hiller abou...</td>\n",
       "      <td>ENTERTAINMENT</td>\n",
       "      <td>17.0</td>\n",
       "      <td>[film, season, movie, man, fans, watch, wanted]</td>\n",
       "    </tr>\n",
       "    <tr>\n",
       "      <th>2</th>\n",
       "      <td>ARTS &amp; CULTURE</td>\n",
       "      <td>New Yorker Cover Puts Trump 'In The Hole' Afte...</td>\n",
       "      <td>The New Yorker is taking on President Donald T...</td>\n",
       "      <td>COMEDY</td>\n",
       "      <td>7.0</td>\n",
       "      <td>[trump, president, white house, president dona...</td>\n",
       "    </tr>\n",
       "    <tr>\n",
       "      <th>3</th>\n",
       "      <td>ARTS &amp; CULTURE</td>\n",
       "      <td>Man Surprises Girlfriend By Drawing Them In Di...</td>\n",
       "      <td>Kellen Hickey, a 26-year-old who lives in Huds...</td>\n",
       "      <td>ENTERTAINMENT</td>\n",
       "      <td>17.0</td>\n",
       "      <td>[film, season, movie, man, fans, watch, wanted]</td>\n",
       "    </tr>\n",
       "    <tr>\n",
       "      <th>4</th>\n",
       "      <td>ARTS &amp; CULTURE</td>\n",
       "      <td>This Artist Gives Renaissance-Style Sculptures...</td>\n",
       "      <td>There’s something about combining the traditio...</td>\n",
       "      <td>ENVIRONMENT</td>\n",
       "      <td>4.0</td>\n",
       "      <td>[art, artists, experience, artist, place, book...</td>\n",
       "    </tr>\n",
       "  </tbody>\n",
       "</table>\n",
       "</div>"
      ],
      "text/plain": [
       "         category                                              title  \\\n",
       "0  ARTS & CULTURE  Modeling Agencies Enabled Sexual Predators For...   \n",
       "1  ARTS & CULTURE  Actor Jeff Hiller Talks “Bright Colors And Bol...   \n",
       "2  ARTS & CULTURE  New Yorker Cover Puts Trump 'In The Hole' Afte...   \n",
       "3  ARTS & CULTURE  Man Surprises Girlfriend By Drawing Them In Di...   \n",
       "4  ARTS & CULTURE  This Artist Gives Renaissance-Style Sculptures...   \n",
       "\n",
       "                                                body computed_category  \\\n",
       "0  In October 2017, Carolyn Kramer received a dis...     ENTERTAINMENT   \n",
       "1  This week I talked with actor Jeff Hiller abou...     ENTERTAINMENT   \n",
       "2  The New Yorker is taking on President Donald T...            COMEDY   \n",
       "3  Kellen Hickey, a 26-year-old who lives in Huds...     ENTERTAINMENT   \n",
       "4  There’s something about combining the traditio...       ENVIRONMENT   \n",
       "\n",
       "   lda_category_index                                lda_category_topics  \n",
       "0                17.0    [film, season, movie, man, fans, watch, wanted]  \n",
       "1                17.0    [film, season, movie, man, fans, watch, wanted]  \n",
       "2                 7.0  [trump, president, white house, president dona...  \n",
       "3                17.0    [film, season, movie, man, fans, watch, wanted]  \n",
       "4                 4.0  [art, artists, experience, artist, place, book...  "
      ]
     },
     "execution_count": 31,
     "metadata": {},
     "output_type": "execute_result"
    }
   ],
   "source": [
    "category_df = pd.concat([articles_df,new_category_df],axis=1)\n",
    "category_df.head()"
   ]
  },
  {
   "cell_type": "code",
   "execution_count": 32,
   "metadata": {},
   "outputs": [
    {
     "data": {
      "text/plain": [
       "0.13058019485240657"
      ]
     },
     "execution_count": 32,
     "metadata": {},
     "output_type": "execute_result"
    }
   ],
   "source": [
    "category_df[category_df[\"category\"]==category_df[\"computed_category\"]].shape[0]/(category_df.shape[0])"
   ]
  },
  {
   "cell_type": "code",
   "execution_count": 105,
   "metadata": {},
   "outputs": [
    {
     "data": {
      "text/html": [
       "<div>\n",
       "<style scoped>\n",
       "    .dataframe tbody tr th:only-of-type {\n",
       "        vertical-align: middle;\n",
       "    }\n",
       "\n",
       "    .dataframe tbody tr th {\n",
       "        vertical-align: top;\n",
       "    }\n",
       "\n",
       "    .dataframe thead th {\n",
       "        text-align: right;\n",
       "    }\n",
       "</style>\n",
       "<table border=\"1\" class=\"dataframe\">\n",
       "  <thead>\n",
       "    <tr style=\"text-align: right;\">\n",
       "      <th></th>\n",
       "      <th></th>\n",
       "      <th>lda_category_topics</th>\n",
       "    </tr>\n",
       "    <tr>\n",
       "      <th>category</th>\n",
       "      <th>lda_category_index</th>\n",
       "      <th></th>\n",
       "    </tr>\n",
       "  </thead>\n",
       "  <tbody>\n",
       "    <tr>\n",
       "      <th rowspan=\"5\" valign=\"top\">ARTS &amp; CULTURE</th>\n",
       "      <th>0.0</th>\n",
       "      <td>38</td>\n",
       "    </tr>\n",
       "    <tr>\n",
       "      <th>1.0</th>\n",
       "      <td>4</td>\n",
       "    </tr>\n",
       "    <tr>\n",
       "      <th>2.0</th>\n",
       "      <td>4</td>\n",
       "    </tr>\n",
       "    <tr>\n",
       "      <th>3.0</th>\n",
       "      <td>15</td>\n",
       "    </tr>\n",
       "    <tr>\n",
       "      <th>4.0</th>\n",
       "      <td>435</td>\n",
       "    </tr>\n",
       "    <tr>\n",
       "      <th>...</th>\n",
       "      <th>...</th>\n",
       "      <td>...</td>\n",
       "    </tr>\n",
       "    <tr>\n",
       "      <th rowspan=\"5\" valign=\"top\">WOMEN</th>\n",
       "      <th>17.0</th>\n",
       "      <td>67</td>\n",
       "    </tr>\n",
       "    <tr>\n",
       "      <th>18.0</th>\n",
       "      <td>7</td>\n",
       "    </tr>\n",
       "    <tr>\n",
       "      <th>19.0</th>\n",
       "      <td>7</td>\n",
       "    </tr>\n",
       "    <tr>\n",
       "      <th>20.0</th>\n",
       "      <td>15</td>\n",
       "    </tr>\n",
       "    <tr>\n",
       "      <th>21.0</th>\n",
       "      <td>22</td>\n",
       "    </tr>\n",
       "  </tbody>\n",
       "</table>\n",
       "<p>275 rows × 1 columns</p>\n",
       "</div>"
      ],
      "text/plain": [
       "                                   lda_category_topics\n",
       "category       lda_category_index                     \n",
       "ARTS & CULTURE 0.0                                  38\n",
       "               1.0                                   4\n",
       "               2.0                                   4\n",
       "               3.0                                  15\n",
       "               4.0                                 435\n",
       "...                                                ...\n",
       "WOMEN          17.0                                 67\n",
       "               18.0                                  7\n",
       "               19.0                                  7\n",
       "               20.0                                 15\n",
       "               21.0                                 22\n",
       "\n",
       "[275 rows x 1 columns]"
      ]
     },
     "execution_count": 105,
     "metadata": {},
     "output_type": "execute_result"
    }
   ],
   "source": [
    "reduced_category_df = category_df[[\"category\", \"lda_category_index\", \"lda_category_topics\"]]\n",
    "count_category_df = reduced_category_df.groupby([\"category\", \"lda_category_index\"], sort=True).count()\n",
    "count_category_df"
   ]
  },
  {
   "cell_type": "code",
   "execution_count": 106,
   "metadata": {},
   "outputs": [
    {
     "data": {
      "text/html": [
       "<div>\n",
       "<style scoped>\n",
       "    .dataframe tbody tr th:only-of-type {\n",
       "        vertical-align: middle;\n",
       "    }\n",
       "\n",
       "    .dataframe tbody tr th {\n",
       "        vertical-align: top;\n",
       "    }\n",
       "\n",
       "    .dataframe thead th {\n",
       "        text-align: right;\n",
       "    }\n",
       "</style>\n",
       "<table border=\"1\" class=\"dataframe\">\n",
       "  <thead>\n",
       "    <tr style=\"text-align: right;\">\n",
       "      <th></th>\n",
       "      <th></th>\n",
       "      <th>lda_category_topics</th>\n",
       "    </tr>\n",
       "    <tr>\n",
       "      <th>category</th>\n",
       "      <th>lda_category_index</th>\n",
       "      <th></th>\n",
       "    </tr>\n",
       "  </thead>\n",
       "  <tbody>\n",
       "    <tr>\n",
       "      <th rowspan=\"5\" valign=\"top\">ARTS &amp; CULTURE</th>\n",
       "      <th>0.0</th>\n",
       "      <td>38</td>\n",
       "    </tr>\n",
       "    <tr>\n",
       "      <th>1.0</th>\n",
       "      <td>4</td>\n",
       "    </tr>\n",
       "    <tr>\n",
       "      <th>2.0</th>\n",
       "      <td>4</td>\n",
       "    </tr>\n",
       "    <tr>\n",
       "      <th>3.0</th>\n",
       "      <td>15</td>\n",
       "    </tr>\n",
       "    <tr>\n",
       "      <th>4.0</th>\n",
       "      <td>435</td>\n",
       "    </tr>\n",
       "    <tr>\n",
       "      <th>...</th>\n",
       "      <th>...</th>\n",
       "      <td>...</td>\n",
       "    </tr>\n",
       "    <tr>\n",
       "      <th rowspan=\"5\" valign=\"top\">WOMEN</th>\n",
       "      <th>17.0</th>\n",
       "      <td>67</td>\n",
       "    </tr>\n",
       "    <tr>\n",
       "      <th>18.0</th>\n",
       "      <td>7</td>\n",
       "    </tr>\n",
       "    <tr>\n",
       "      <th>19.0</th>\n",
       "      <td>7</td>\n",
       "    </tr>\n",
       "    <tr>\n",
       "      <th>20.0</th>\n",
       "      <td>15</td>\n",
       "    </tr>\n",
       "    <tr>\n",
       "      <th>21.0</th>\n",
       "      <td>22</td>\n",
       "    </tr>\n",
       "  </tbody>\n",
       "</table>\n",
       "<p>275 rows × 1 columns</p>\n",
       "</div>"
      ],
      "text/plain": [
       "                                   lda_category_topics\n",
       "category       lda_category_index                     \n",
       "ARTS & CULTURE 0.0                                  38\n",
       "               1.0                                   4\n",
       "               2.0                                   4\n",
       "               3.0                                  15\n",
       "               4.0                                 435\n",
       "...                                                ...\n",
       "WOMEN          17.0                                 67\n",
       "               18.0                                  7\n",
       "               19.0                                  7\n",
       "               20.0                                 15\n",
       "               21.0                                 22\n",
       "\n",
       "[275 rows x 1 columns]"
      ]
     },
     "execution_count": 106,
     "metadata": {},
     "output_type": "execute_result"
    }
   ],
   "source": [
    "count_category_df"
   ]
  },
  {
   "cell_type": "code",
   "execution_count": 61,
   "metadata": {},
   "outputs": [
    {
     "data": {
      "text/plain": [
       "array(['ARTS & CULTURE', 'BUSINESS', 'COMEDY', 'CRIME', 'EDUCATION',\n",
       "       'ENTERTAINMENT', 'ENVIRONMENT', 'MEDIA', 'POLITICS', 'RELIGION',\n",
       "       'SCIENCE', 'SPORTS', 'TECH', 'WOMEN'], dtype=object)"
      ]
     },
     "execution_count": 61,
     "metadata": {},
     "output_type": "execute_result"
    }
   ],
   "source": [
    "categories"
   ]
  },
  {
   "cell_type": "code",
   "execution_count": 66,
   "metadata": {},
   "outputs": [
    {
     "data": {
      "text/plain": [
       "Float64Index([ 0.0,  1.0,  2.0,  3.0,  4.0,  5.0,  6.0,  7.0,  8.0,  9.0, 10.0,\n",
       "              11.0, 12.0, 13.0, 14.0, 15.0, 16.0, 17.0, 18.0, 19.0, 20.0, 21.0,\n",
       "              23.0],\n",
       "             dtype='float64', name='lda_category_index')"
      ]
     },
     "execution_count": 66,
     "metadata": {},
     "output_type": "execute_result"
    }
   ],
   "source": [
    "count_category_df.loc[categories[0]].index"
   ]
  },
  {
   "cell_type": "code",
   "execution_count": 112,
   "metadata": {},
   "outputs": [
    {
     "data": {
      "text/plain": [
       "4"
      ]
     },
     "execution_count": 112,
     "metadata": {},
     "output_type": "execute_result"
    }
   ],
   "source": [
    "int(count_category_df.loc[\"ARTS & CULTURE\"].loc[1.0])"
   ]
  },
  {
   "cell_type": "code",
   "execution_count": 114,
   "metadata": {},
   "outputs": [
    {
     "name": "stdout",
     "output_type": "stream",
     "text": [
      "dict_keys(['ARTS & CULTURE', 'BUSINESS', 'COMEDY', 'CRIME', 'EDUCATION', 'ENTERTAINMENT', 'ENVIRONMENT', 'MEDIA', 'POLITICS', 'RELIGION', 'SCIENCE', 'SPORTS', 'TECH', 'WOMEN'])\n"
     ]
    }
   ],
   "source": [
    "count_category_dict = {}\n",
    "for cat in categories:\n",
    "    count_category_dict[cat] = {}\n",
    "    for ind in count_category_df.loc[cat].index:\n",
    "        count_category_dict[cat][ind] = int(count_category_df.loc[cat].loc[ind])\n",
    "\n",
    "print(count_category_dict.keys())"
   ]
  },
  {
   "cell_type": "code",
   "execution_count": 120,
   "metadata": {},
   "outputs": [
    {
     "name": "stdout",
     "output_type": "stream",
     "text": [
      "[0.0, 1.0, 2.0, 3.0, 4.0, 5.0, 6.0, 7.0, 8.0, 9.0, 10.0, 11.0, 12.0, 13.0, 14.0, 15.0, 16.0, 17.0, 18.0, 19.0, 20.0, 21.0, 22.0, 23.0]\n"
     ]
    }
   ],
   "source": [
    "indexes = [float(i) for i in range(24)]\n",
    "print(indexes)"
   ]
  },
  {
   "cell_type": "code",
   "execution_count": 124,
   "metadata": {},
   "outputs": [
    {
     "name": "stdout",
     "output_type": "stream",
     "text": [
      "[[ 38.   4.   4.  15. 435.  18.  11.  34.   5.  14.   2.  13.  39.   2.\n",
      "    2.   4.  12. 298.   9.  16.  18.   7.   0.   1.]\n",
      " [  2.   4.  22.  19.  37.   1.  15.   3.  12.  12.   1.  10.  18.  56.\n",
      "    0.  56.   5.   6. 135.   6.  14.  24.   8.  35.]\n",
      " [  4.   2.  10.   6.  13.  27.   6. 142.   0.  14.  10.  14.   3.   5.\n",
      "    0.   4.   2.  90.   4.  14.   0.   3.   2.   1.]\n",
      " [  1.  30. 188.  11.   5.   7.   2.   3.   0.  10.   0.   0.   4.  11.\n",
      "   10.   0.   5.   2.   2.   1.   0.   8.   0.   0.]\n",
      " [  5.   1.   6.   5.  54.   0.   2.   5.   0.   0.   0.   1. 229.   2.\n",
      "    0.   5.   1.  16.  34.   3.   4. 117.   0.   0.]\n",
      " [  5.   2.   8.  27.  10.  25.   2.  32.   0.  10.   0.   9.   1.   5.\n",
      "    3.   1.   2. 351.   2.   6.   0.   0.   0.   0.]\n",
      " [133.   7.  26.   0.  19.   3.  34.   3.   1.  40.   5.  41.   5.   9.\n",
      "    1.  61.   0.  28.  73.   1.   0.   8.   3.   0.]\n",
      " [  4.   0.  13.  40.  11.   6.   4. 136.   0.  18.   0.   8.   7.  37.\n",
      "    0.   5.   3.  17.   3.  25.   7.   2.   0.   1.]\n",
      " [  4.   0.  37.  16.   3.   1. 123. 132.   0.  17.   0.   2.  32.  75.\n",
      "    0.   6.   0.   7.  18.   4.   0.  20.   3.   1.]\n",
      " [ 78.   5.  14.  44. 102.   0. 135.  18.   1.   2.   0.   1.  58.   6.\n",
      "    0.   3.   1.  22.   3.   1.   1.   6.   0.   0.]\n",
      " [238.   1.   0.   2.  32.   0.   6.   2.   0.   3.   0.   8.   9.   5.\n",
      "    0.   6.   1.   2.  28.   1.   5.   1.   0.   0.]\n",
      " [  7.  14.  35.  12.   6.  10.  12.  28.  22.  11.   0.  54.   5.  18.\n",
      "    1.  14. 100. 134.   7.   3.   2.   5.   0.   1.]\n",
      " [ 12.   0.  19.   6.  23.   6.   5.   3.   3.   5.   0.  15.   5. 157.\n",
      "    0.  11.   1.  15. 128.  12.  42.   4.  10.  19.]\n",
      " [  3.   1.  11. 219.  47.  11.  19.  15.   1.   0.   0.   4.  16.   6.\n",
      "    3.   3.  19.  67.   7.   7.  15.  22.   0.   0.]]\n"
     ]
    }
   ],
   "source": [
    "count_category_array = np.zeros((len(categories), 24))\n",
    "for i in range(len(categories)):\n",
    "    for ind in count_category_df.loc[categories[i]].index:\n",
    "        count_category_array[i, int(ind)] = int(count_category_df.loc[categories[i]].loc[ind])\n",
    "\n",
    "print(count_category_array)"
   ]
  },
  {
   "cell_type": "code",
   "execution_count": 129,
   "metadata": {},
   "outputs": [
    {
     "data": {
      "image/png": "[encoded data removed]",
      "text/plain": [
       "<Figure size 640x480 with 2 Axes>"
      ]
     },
     "metadata": {},
     "output_type": "display_data"
    }
   ],
   "source": [
    "ax = sns.heatmap(count_category_array, cmap='YlGnBu', yticklabels=categories, xticklabels=np.arange(24))"
   ]
  }
 ],
 "metadata": {
  "kernelspec": {
   "display_name": "base",
   "language": "python",
   "name": "python3"
  },
  "language_info": {
   "codemirror_mode": {
    "name": "ipython",
    "version": 3
   },
   "file_extension": ".py",
   "mimetype": "text/x-python",
   "name": "python",
   "nbconvert_exporter": "python",
   "pygments_lexer": "ipython3",
   "version": "3.9.7"
  },
  "orig_nbformat": 4,
  "vscode": {
   "interpreter": {
    "hash": "c9e1df6e60664d65dbd38b2e06fd8e07d27707f56e14c3e6cfe8d3e8434595f1"
   }
  }
 },
 "nbformat": 4,
 "nbformat_minor": 2
}
