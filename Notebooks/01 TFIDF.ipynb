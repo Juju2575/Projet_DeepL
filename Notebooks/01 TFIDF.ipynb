{
 "cells": [
  {
   "attachments": {},
   "cell_type": "markdown",
   "metadata": {},
   "source": [
    "<h3> Imports"
   ]
  },
  {
   "cell_type": "code",
   "execution_count": 1,
   "metadata": {},
   "outputs": [],
   "source": [
    "#Pytorch\n",
    "import torch\n",
    "import torch.nn.functional as F \n",
    "\n",
    "#Maths\n",
    "import numpy as np\n",
    "import pandas as pd\n",
    "import matplotlib.pyplot as plt\n",
    "\n",
    "#Sckit \n",
    "from sklearn.model_selection import train_test_split\n",
    "from sklearn.feature_extraction.text import TfidfVectorizer\n",
    "from sklearn.naive_bayes import MultinomialNB\n",
    "from sklearn.metrics import accuracy_score, classification_report\n",
    "from sklearn.neighbors import KNeighborsClassifier\n",
    "from sklearn.ensemble import RandomForestClassifier\n",
    "from sklearn.tree import DecisionTreeClassifier\n",
    "from sklearn.linear_model import LogisticRegression\n",
    "from sklearn.svm import SVC\n",
    "\n",
    "#Regular expressions\n",
    "import re\n",
    "\n",
    "#Others\n",
    "import seaborn as sns\n",
    "import time\n",
    "import string\n",
    "import os\n",
    "import random"
   ]
  },
  {
   "cell_type": "code",
   "execution_count": 2,
   "metadata": {},
   "outputs": [],
   "source": [
    "#NLP\n",
    "import nltk\n",
    "# nltk.download()\n",
    "\n",
    "from nltk.corpus import stopwords\n",
    "from nltk.stem import WordNetLemmatizer"
   ]
  },
  {
   "cell_type": "code",
   "execution_count": 3,
   "metadata": {},
   "outputs": [],
   "source": [
    "#TorchText\n",
    "import torchtext\n",
    "from torchtext.data import get_tokenizer\n",
    "from torchtext.vocab import build_vocab_from_iterator\n",
    "from torch.utils.data import DataLoader\n",
    "from torchtext.data.functional import to_map_style_dataset"
   ]
  },
  {
   "attachments": {},
   "cell_type": "markdown",
   "metadata": {},
   "source": [
    "<h3>Loading News Data"
   ]
  },
  {
   "cell_type": "code",
   "execution_count": 4,
   "metadata": {},
   "outputs": [
    {
     "name": "stdout",
     "output_type": "stream",
     "text": [
      "<class 'pandas.core.frame.DataFrame'>\n",
      "RangeIndex: 6877 entries, 0 to 6876\n",
      "Data columns (total 3 columns):\n",
      " #   Column    Non-Null Count  Dtype \n",
      "---  ------    --------------  ----- \n",
      " 0   category  6877 non-null   object\n",
      " 1   title     6877 non-null   object\n",
      " 2   body      6872 non-null   object\n",
      "dtypes: object(3)\n",
      "memory usage: 161.3+ KB\n"
     ]
    }
   ],
   "source": [
    "data = pd.read_csv('../Data/news-article-categories.csv')\n",
    "data.info()"
   ]
  },
  {
   "cell_type": "code",
   "execution_count": 5,
   "metadata": {},
   "outputs": [
    {
     "data": {
      "text/html": [
       "<div>\n",
       "<style scoped>\n",
       "    .dataframe tbody tr th:only-of-type {\n",
       "        vertical-align: middle;\n",
       "    }\n",
       "\n",
       "    .dataframe tbody tr th {\n",
       "        vertical-align: top;\n",
       "    }\n",
       "\n",
       "    .dataframe thead th {\n",
       "        text-align: right;\n",
       "    }\n",
       "</style>\n",
       "<table border=\"1\" class=\"dataframe\">\n",
       "  <thead>\n",
       "    <tr style=\"text-align: right;\">\n",
       "      <th></th>\n",
       "      <th>category</th>\n",
       "      <th>title</th>\n",
       "      <th>body</th>\n",
       "    </tr>\n",
       "  </thead>\n",
       "  <tbody>\n",
       "    <tr>\n",
       "      <th>count</th>\n",
       "      <td>6877</td>\n",
       "      <td>6877</td>\n",
       "      <td>6872</td>\n",
       "    </tr>\n",
       "    <tr>\n",
       "      <th>unique</th>\n",
       "      <td>14</td>\n",
       "      <td>6836</td>\n",
       "      <td>6815</td>\n",
       "    </tr>\n",
       "    <tr>\n",
       "      <th>top</th>\n",
       "      <td>ARTS &amp; CULTURE</td>\n",
       "      <td>Extreme Weather Photos Of The Week</td>\n",
       "      <td>This week brought several big headlines in ext...</td>\n",
       "    </tr>\n",
       "    <tr>\n",
       "      <th>freq</th>\n",
       "      <td>1002</td>\n",
       "      <td>24</td>\n",
       "      <td>21</td>\n",
       "    </tr>\n",
       "  </tbody>\n",
       "</table>\n",
       "</div>"
      ],
      "text/plain": [
       "              category                               title  \\\n",
       "count             6877                                6877   \n",
       "unique              14                                6836   \n",
       "top     ARTS & CULTURE  Extreme Weather Photos Of The Week   \n",
       "freq              1002                                  24   \n",
       "\n",
       "                                                     body  \n",
       "count                                                6872  \n",
       "unique                                               6815  \n",
       "top     This week brought several big headlines in ext...  \n",
       "freq                                                   21  "
      ]
     },
     "execution_count": 5,
     "metadata": {},
     "output_type": "execute_result"
    }
   ],
   "source": [
    "data.describe()"
   ]
  },
  {
   "cell_type": "code",
   "execution_count": 6,
   "metadata": {},
   "outputs": [
    {
     "data": {
      "text/html": [
       "<div>\n",
       "<style scoped>\n",
       "    .dataframe tbody tr th:only-of-type {\n",
       "        vertical-align: middle;\n",
       "    }\n",
       "\n",
       "    .dataframe tbody tr th {\n",
       "        vertical-align: top;\n",
       "    }\n",
       "\n",
       "    .dataframe thead th {\n",
       "        text-align: right;\n",
       "    }\n",
       "</style>\n",
       "<table border=\"1\" class=\"dataframe\">\n",
       "  <thead>\n",
       "    <tr style=\"text-align: right;\">\n",
       "      <th></th>\n",
       "      <th>category</th>\n",
       "      <th>title</th>\n",
       "      <th>body</th>\n",
       "    </tr>\n",
       "  </thead>\n",
       "  <tbody>\n",
       "    <tr>\n",
       "      <th>0</th>\n",
       "      <td>ARTS &amp; CULTURE</td>\n",
       "      <td>Modeling Agencies Enabled Sexual Predators For...</td>\n",
       "      <td>In October 2017, Carolyn Kramer received a dis...</td>\n",
       "    </tr>\n",
       "    <tr>\n",
       "      <th>1</th>\n",
       "      <td>ARTS &amp; CULTURE</td>\n",
       "      <td>Actor Jeff Hiller Talks “Bright Colors And Bol...</td>\n",
       "      <td>This week I talked with actor Jeff Hiller abou...</td>\n",
       "    </tr>\n",
       "    <tr>\n",
       "      <th>2</th>\n",
       "      <td>ARTS &amp; CULTURE</td>\n",
       "      <td>New Yorker Cover Puts Trump 'In The Hole' Afte...</td>\n",
       "      <td>The New Yorker is taking on President Donald T...</td>\n",
       "    </tr>\n",
       "    <tr>\n",
       "      <th>3</th>\n",
       "      <td>ARTS &amp; CULTURE</td>\n",
       "      <td>Man Surprises Girlfriend By Drawing Them In Di...</td>\n",
       "      <td>Kellen Hickey, a 26-year-old who lives in Huds...</td>\n",
       "    </tr>\n",
       "    <tr>\n",
       "      <th>4</th>\n",
       "      <td>ARTS &amp; CULTURE</td>\n",
       "      <td>This Artist Gives Renaissance-Style Sculptures...</td>\n",
       "      <td>There’s something about combining the traditio...</td>\n",
       "    </tr>\n",
       "  </tbody>\n",
       "</table>\n",
       "</div>"
      ],
      "text/plain": [
       "         category                                              title  \\\n",
       "0  ARTS & CULTURE  Modeling Agencies Enabled Sexual Predators For...   \n",
       "1  ARTS & CULTURE  Actor Jeff Hiller Talks “Bright Colors And Bol...   \n",
       "2  ARTS & CULTURE  New Yorker Cover Puts Trump 'In The Hole' Afte...   \n",
       "3  ARTS & CULTURE  Man Surprises Girlfriend By Drawing Them In Di...   \n",
       "4  ARTS & CULTURE  This Artist Gives Renaissance-Style Sculptures...   \n",
       "\n",
       "                                                body  \n",
       "0  In October 2017, Carolyn Kramer received a dis...  \n",
       "1  This week I talked with actor Jeff Hiller abou...  \n",
       "2  The New Yorker is taking on President Donald T...  \n",
       "3  Kellen Hickey, a 26-year-old who lives in Huds...  \n",
       "4  There’s something about combining the traditio...  "
      ]
     },
     "execution_count": 6,
     "metadata": {},
     "output_type": "execute_result"
    }
   ],
   "source": [
    "data.head()"
   ]
  },
  {
   "cell_type": "code",
   "execution_count": 7,
   "metadata": {},
   "outputs": [
    {
     "data": {
      "text/html": [
       "<div>\n",
       "<style scoped>\n",
       "    .dataframe tbody tr th:only-of-type {\n",
       "        vertical-align: middle;\n",
       "    }\n",
       "\n",
       "    .dataframe tbody tr th {\n",
       "        vertical-align: top;\n",
       "    }\n",
       "\n",
       "    .dataframe thead th {\n",
       "        text-align: right;\n",
       "    }\n",
       "</style>\n",
       "<table border=\"1\" class=\"dataframe\">\n",
       "  <thead>\n",
       "    <tr style=\"text-align: right;\">\n",
       "      <th></th>\n",
       "      <th>category</th>\n",
       "      <th>title</th>\n",
       "      <th>body</th>\n",
       "    </tr>\n",
       "  </thead>\n",
       "  <tbody>\n",
       "    <tr>\n",
       "      <th>536</th>\n",
       "      <td>ARTS &amp; CULTURE</td>\n",
       "      <td>An Avant-garde Artist for Avant-garde Minds: A...</td>\n",
       "      <td>NaN</td>\n",
       "    </tr>\n",
       "    <tr>\n",
       "      <th>1816</th>\n",
       "      <td>COMEDY</td>\n",
       "      <td>...New Again?</td>\n",
       "      <td>NaN</td>\n",
       "    </tr>\n",
       "    <tr>\n",
       "      <th>1833</th>\n",
       "      <td>COMEDY</td>\n",
       "      <td>Why Do We See Life Through Rose-Colored Glasses?</td>\n",
       "      <td>NaN</td>\n",
       "    </tr>\n",
       "    <tr>\n",
       "      <th>1858</th>\n",
       "      <td>COMEDY</td>\n",
       "      <td>She Stands Alone</td>\n",
       "      <td>NaN</td>\n",
       "    </tr>\n",
       "    <tr>\n",
       "      <th>1860</th>\n",
       "      <td>COMEDY</td>\n",
       "      <td>Show and Tell</td>\n",
       "      <td>NaN</td>\n",
       "    </tr>\n",
       "  </tbody>\n",
       "</table>\n",
       "</div>"
      ],
      "text/plain": [
       "            category                                              title body\n",
       "536   ARTS & CULTURE  An Avant-garde Artist for Avant-garde Minds: A...  NaN\n",
       "1816          COMEDY                                      ...New Again?  NaN\n",
       "1833          COMEDY   Why Do We See Life Through Rose-Colored Glasses?  NaN\n",
       "1858          COMEDY                                   She Stands Alone  NaN\n",
       "1860          COMEDY                                      Show and Tell  NaN"
      ]
     },
     "execution_count": 7,
     "metadata": {},
     "output_type": "execute_result"
    }
   ],
   "source": [
    "data[data['body'].isnull()]"
   ]
  },
  {
   "cell_type": "code",
   "execution_count": 8,
   "metadata": {},
   "outputs": [],
   "source": [
    "data = data.dropna()\n",
    "data.reset_index(inplace=True)"
   ]
  },
  {
   "attachments": {},
   "cell_type": "markdown",
   "metadata": {},
   "source": [
    "<h2> Text Preprocessing"
   ]
  },
  {
   "attachments": {},
   "cell_type": "markdown",
   "metadata": {},
   "source": [
    "DO NOT RUN. Cleaned output already saved in csv."
   ]
  },
  {
   "cell_type": "code",
   "execution_count": 9,
   "metadata": {},
   "outputs": [],
   "source": [
    "\n",
    "# # Defining a Function to clean up the reviews \n",
    "# def text_preprocess(ds: pd.Series) -> pd.Series:\n",
    "#     \"\"\"\n",
    "#     Apply NLP Preprocessing Techniques to the reviews.\n",
    "#     \"\"\"\n",
    "#     i=0\n",
    "#     for m in range(len(ds)):\n",
    "#         # PUT PROGRESS BAR BEFORE NEXT RUN\n",
    "#         main_words = re.sub('[^a-zA-Z]', ' ', ds[m])                                      # Retain only alphabets\n",
    "#         main_words = (main_words.lower()).split()\n",
    "#         main_words = [w for w in main_words if not w in set(stopwords.words('english'))]  # Remove stopwords\n",
    "        \n",
    "#         lem = WordNetLemmatizer()\n",
    "#         main_words = [lem.lemmatize(w) for w in main_words if len(w) > 1]                 # Group different forms of the same word\n",
    "        \n",
    "#         main_words = ' '.join(main_words)\n",
    "#         ds[m] = main_words\n",
    "\n",
    "#     return ds\n",
    "\n",
    "# ## This next operation is likely to take around 15 minutes\n",
    "# data['body'] = text_preprocess(data['body'])\n",
    "# data.head()"
   ]
  },
  {
   "cell_type": "code",
   "execution_count": 10,
   "metadata": {},
   "outputs": [],
   "source": [
    "# data = data.dropna()"
   ]
  },
  {
   "cell_type": "code",
   "execution_count": 11,
   "metadata": {},
   "outputs": [],
   "source": [
    "# data.to_csv('../deepL/datasets/news-article-categories-clean.csv', index= False)"
   ]
  },
  {
   "cell_type": "code",
   "execution_count": 13,
   "metadata": {},
   "outputs": [
    {
     "data": {
      "text/html": [
       "<div>\n",
       "<style scoped>\n",
       "    .dataframe tbody tr th:only-of-type {\n",
       "        vertical-align: middle;\n",
       "    }\n",
       "\n",
       "    .dataframe tbody tr th {\n",
       "        vertical-align: top;\n",
       "    }\n",
       "\n",
       "    .dataframe thead th {\n",
       "        text-align: right;\n",
       "    }\n",
       "</style>\n",
       "<table border=\"1\" class=\"dataframe\">\n",
       "  <thead>\n",
       "    <tr style=\"text-align: right;\">\n",
       "      <th></th>\n",
       "      <th>category</th>\n",
       "      <th>title</th>\n",
       "      <th>body</th>\n",
       "    </tr>\n",
       "  </thead>\n",
       "  <tbody>\n",
       "    <tr>\n",
       "      <th>0</th>\n",
       "      <td>ARTS &amp; CULTURE</td>\n",
       "      <td>Modeling Agencies Enabled Sexual Predators For...</td>\n",
       "      <td>october carolyn kramer received disturbing pho...</td>\n",
       "    </tr>\n",
       "    <tr>\n",
       "      <th>1</th>\n",
       "      <td>ARTS &amp; CULTURE</td>\n",
       "      <td>Actor Jeff Hiller Talks “Bright Colors And Bol...</td>\n",
       "      <td>week talked actor jeff hiller hit broadway pla...</td>\n",
       "    </tr>\n",
       "    <tr>\n",
       "      <th>2</th>\n",
       "      <td>ARTS &amp; CULTURE</td>\n",
       "      <td>New Yorker Cover Puts Trump 'In The Hole' Afte...</td>\n",
       "      <td>new yorker taking president donald trump asked...</td>\n",
       "    </tr>\n",
       "    <tr>\n",
       "      <th>3</th>\n",
       "      <td>ARTS &amp; CULTURE</td>\n",
       "      <td>Man Surprises Girlfriend By Drawing Them In Di...</td>\n",
       "      <td>kellen hickey year old life hudson wisconsin g...</td>\n",
       "    </tr>\n",
       "    <tr>\n",
       "      <th>4</th>\n",
       "      <td>ARTS &amp; CULTURE</td>\n",
       "      <td>This Artist Gives Renaissance-Style Sculptures...</td>\n",
       "      <td>something combining traditional uptight look r...</td>\n",
       "    </tr>\n",
       "  </tbody>\n",
       "</table>\n",
       "</div>"
      ],
      "text/plain": [
       "         category                                              title  \\\n",
       "0  ARTS & CULTURE  Modeling Agencies Enabled Sexual Predators For...   \n",
       "1  ARTS & CULTURE  Actor Jeff Hiller Talks “Bright Colors And Bol...   \n",
       "2  ARTS & CULTURE  New Yorker Cover Puts Trump 'In The Hole' Afte...   \n",
       "3  ARTS & CULTURE  Man Surprises Girlfriend By Drawing Them In Di...   \n",
       "4  ARTS & CULTURE  This Artist Gives Renaissance-Style Sculptures...   \n",
       "\n",
       "                                                body  \n",
       "0  october carolyn kramer received disturbing pho...  \n",
       "1  week talked actor jeff hiller hit broadway pla...  \n",
       "2  new yorker taking president donald trump asked...  \n",
       "3  kellen hickey year old life hudson wisconsin g...  \n",
       "4  something combining traditional uptight look r...  "
      ]
     },
     "execution_count": 13,
     "metadata": {},
     "output_type": "execute_result"
    }
   ],
   "source": [
    "data = pd.read_csv('../Data/news-article-categories-clean.csv')\n",
    "data.head()"
   ]
  },
  {
   "attachments": {},
   "cell_type": "markdown",
   "metadata": {},
   "source": [
    "<h3> Prediction"
   ]
  },
  {
   "attachments": {},
   "cell_type": "markdown",
   "metadata": {},
   "source": [
    "<h4> Target"
   ]
  },
  {
   "cell_type": "code",
   "execution_count": 14,
   "metadata": {},
   "outputs": [],
   "source": [
    "# Spliting into X & y\n",
    "# X = data[['title', 'body']]\n",
    "# y = data['category']\n",
    "X = data.iloc[:, 2].values\n",
    "y = data.iloc[:, 0].values"
   ]
  },
  {
   "attachments": {},
   "cell_type": "markdown",
   "metadata": {},
   "source": [
    "<h4> TF-IDF Matrix"
   ]
  },
  {
   "cell_type": "code",
   "execution_count": 15,
   "metadata": {},
   "outputs": [],
   "source": [
    "# Building a TF IDF matrix out of the corpus of reviews\n",
    "td = TfidfVectorizer(max_features = 4500)\n",
    "X_vect = td.fit_transform(X).toarray()"
   ]
  },
  {
   "attachments": {},
   "cell_type": "markdown",
   "metadata": {},
   "source": [
    "<h4> Train / Test split"
   ]
  },
  {
   "cell_type": "code",
   "execution_count": 16,
   "metadata": {},
   "outputs": [],
   "source": [
    "# Splitting into training & test subsets\n",
    "from sklearn.model_selection import train_test_split\n",
    "X_train, X_test, y_train, y_test = train_test_split(X_vect, y, test_size = 0.3,random_state = 0)"
   ]
  },
  {
   "attachments": {},
   "cell_type": "markdown",
   "metadata": {},
   "source": [
    "<h4> Naive Bayes"
   ]
  },
  {
   "cell_type": "code",
   "execution_count": 17,
   "metadata": {},
   "outputs": [
    {
     "name": "stdout",
     "output_type": "stream",
     "text": [
      "\n",
      " Accuracy:  0.7322987390882638\n",
      "\n",
      "Classification Report\n",
      "======================================================\n",
      "\n",
      "                 precision    recall  f1-score   support\n",
      "\n",
      "ARTS & CULTURE       0.60      0.93      0.73       302\n",
      "      BUSINESS       0.62      0.68      0.65       137\n",
      "        COMEDY       0.89      0.55      0.68       115\n",
      "         CRIME       0.82      0.76      0.79        95\n",
      "     EDUCATION       0.86      0.81      0.84       156\n",
      " ENTERTAINMENT       0.76      0.64      0.69       151\n",
      "   ENVIRONMENT       0.74      0.73      0.74       150\n",
      "         MEDIA       0.91      0.46      0.61       108\n",
      "      POLITICS       0.65      0.78      0.71       149\n",
      "      RELIGION       0.83      0.83      0.83       157\n",
      "       SCIENCE       0.90      0.56      0.69       108\n",
      "        SPORTS       0.88      0.87      0.87       137\n",
      "          TECH       0.77      0.69      0.73       153\n",
      "         WOMEN       0.66      0.60      0.63       144\n",
      "\n",
      "      accuracy                           0.73      2062\n",
      "     macro avg       0.78      0.71      0.73      2062\n",
      "  weighted avg       0.76      0.73      0.73      2062\n",
      "\n"
     ]
    }
   ],
   "source": [
    "# Training the classifier, predicting on test data & evaluating performance with classification metrics\n",
    "\n",
    "# Training the classifier & predicting on test data\n",
    "classifier = MultinomialNB()\n",
    "classifier.fit(X_train, y_train)\n",
    "\n",
    "y_pred = classifier.predict(X_test)\n",
    "\n",
    "# Classification metrics\n",
    "classification_report1 = classification_report(y_test, y_pred)\n",
    "\n",
    "print('\\n Accuracy: ', accuracy_score(y_test, y_pred))\n",
    "print('\\nClassification Report')\n",
    "print('======================================================')\n",
    "print('\\n', classification_report1)"
   ]
  },
  {
   "attachments": {},
   "cell_type": "markdown",
   "metadata": {},
   "source": [
    "<h4> K-NN"
   ]
  },
  {
   "cell_type": "code",
   "execution_count": 18,
   "metadata": {},
   "outputs": [
    {
     "name": "stderr",
     "output_type": "stream",
     "text": [
      "c:\\Users\\julie\\anaconda3\\lib\\site-packages\\sklearn\\neighbors\\_classification.py:228: FutureWarning: Unlike other reduction functions (e.g. `skew`, `kurtosis`), the default behavior of `mode` typically preserves the axis it acts along. In SciPy 1.11.0, this behavior will change: the default value of `keepdims` will become False, the `axis` over which the statistic is taken will be eliminated, and the value None will no longer be accepted. Set `keepdims` to True or False to avoid this warning.\n",
      "  mode, _ = stats.mode(_y[neigh_ind, k], axis=1)\n",
      "c:\\Users\\julie\\anaconda3\\lib\\site-packages\\sklearn\\neighbors\\_classification.py:228: FutureWarning: Unlike other reduction functions (e.g. `skew`, `kurtosis`), the default behavior of `mode` typically preserves the axis it acts along. In SciPy 1.11.0, this behavior will change: the default value of `keepdims` will become False, the `axis` over which the statistic is taken will be eliminated, and the value None will no longer be accepted. Set `keepdims` to True or False to avoid this warning.\n",
      "  mode, _ = stats.mode(_y[neigh_ind, k], axis=1)\n",
      "c:\\Users\\julie\\anaconda3\\lib\\site-packages\\sklearn\\neighbors\\_classification.py:228: FutureWarning: Unlike other reduction functions (e.g. `skew`, `kurtosis`), the default behavior of `mode` typically preserves the axis it acts along. In SciPy 1.11.0, this behavior will change: the default value of `keepdims` will become False, the `axis` over which the statistic is taken will be eliminated, and the value None will no longer be accepted. Set `keepdims` to True or False to avoid this warning.\n",
      "  mode, _ = stats.mode(_y[neigh_ind, k], axis=1)\n",
      "c:\\Users\\julie\\anaconda3\\lib\\site-packages\\sklearn\\neighbors\\_classification.py:228: FutureWarning: Unlike other reduction functions (e.g. `skew`, `kurtosis`), the default behavior of `mode` typically preserves the axis it acts along. In SciPy 1.11.0, this behavior will change: the default value of `keepdims` will become False, the `axis` over which the statistic is taken will be eliminated, and the value None will no longer be accepted. Set `keepdims` to True or False to avoid this warning.\n",
      "  mode, _ = stats.mode(_y[neigh_ind, k], axis=1)\n",
      "c:\\Users\\julie\\anaconda3\\lib\\site-packages\\sklearn\\neighbors\\_classification.py:228: FutureWarning: Unlike other reduction functions (e.g. `skew`, `kurtosis`), the default behavior of `mode` typically preserves the axis it acts along. In SciPy 1.11.0, this behavior will change: the default value of `keepdims` will become False, the `axis` over which the statistic is taken will be eliminated, and the value None will no longer be accepted. Set `keepdims` to True or False to avoid this warning.\n",
      "  mode, _ = stats.mode(_y[neigh_ind, k], axis=1)\n",
      "c:\\Users\\julie\\anaconda3\\lib\\site-packages\\sklearn\\neighbors\\_classification.py:228: FutureWarning: Unlike other reduction functions (e.g. `skew`, `kurtosis`), the default behavior of `mode` typically preserves the axis it acts along. In SciPy 1.11.0, this behavior will change: the default value of `keepdims` will become False, the `axis` over which the statistic is taken will be eliminated, and the value None will no longer be accepted. Set `keepdims` to True or False to avoid this warning.\n",
      "  mode, _ = stats.mode(_y[neigh_ind, k], axis=1)\n",
      "c:\\Users\\julie\\anaconda3\\lib\\site-packages\\sklearn\\neighbors\\_classification.py:228: FutureWarning: Unlike other reduction functions (e.g. `skew`, `kurtosis`), the default behavior of `mode` typically preserves the axis it acts along. In SciPy 1.11.0, this behavior will change: the default value of `keepdims` will become False, the `axis` over which the statistic is taken will be eliminated, and the value None will no longer be accepted. Set `keepdims` to True or False to avoid this warning.\n",
      "  mode, _ = stats.mode(_y[neigh_ind, k], axis=1)\n",
      "c:\\Users\\julie\\anaconda3\\lib\\site-packages\\sklearn\\neighbors\\_classification.py:228: FutureWarning: Unlike other reduction functions (e.g. `skew`, `kurtosis`), the default behavior of `mode` typically preserves the axis it acts along. In SciPy 1.11.0, this behavior will change: the default value of `keepdims` will become False, the `axis` over which the statistic is taken will be eliminated, and the value None will no longer be accepted. Set `keepdims` to True or False to avoid this warning.\n",
      "  mode, _ = stats.mode(_y[neigh_ind, k], axis=1)\n",
      "c:\\Users\\julie\\anaconda3\\lib\\site-packages\\sklearn\\neighbors\\_classification.py:228: FutureWarning: Unlike other reduction functions (e.g. `skew`, `kurtosis`), the default behavior of `mode` typically preserves the axis it acts along. In SciPy 1.11.0, this behavior will change: the default value of `keepdims` will become False, the `axis` over which the statistic is taken will be eliminated, and the value None will no longer be accepted. Set `keepdims` to True or False to avoid this warning.\n",
      "  mode, _ = stats.mode(_y[neigh_ind, k], axis=1)\n",
      "c:\\Users\\julie\\anaconda3\\lib\\site-packages\\sklearn\\neighbors\\_classification.py:228: FutureWarning: Unlike other reduction functions (e.g. `skew`, `kurtosis`), the default behavior of `mode` typically preserves the axis it acts along. In SciPy 1.11.0, this behavior will change: the default value of `keepdims` will become False, the `axis` over which the statistic is taken will be eliminated, and the value None will no longer be accepted. Set `keepdims` to True or False to avoid this warning.\n",
      "  mode, _ = stats.mode(_y[neigh_ind, k], axis=1)\n",
      "c:\\Users\\julie\\anaconda3\\lib\\site-packages\\sklearn\\neighbors\\_classification.py:228: FutureWarning: Unlike other reduction functions (e.g. `skew`, `kurtosis`), the default behavior of `mode` typically preserves the axis it acts along. In SciPy 1.11.0, this behavior will change: the default value of `keepdims` will become False, the `axis` over which the statistic is taken will be eliminated, and the value None will no longer be accepted. Set `keepdims` to True or False to avoid this warning.\n",
      "  mode, _ = stats.mode(_y[neigh_ind, k], axis=1)\n",
      "c:\\Users\\julie\\anaconda3\\lib\\site-packages\\sklearn\\neighbors\\_classification.py:228: FutureWarning: Unlike other reduction functions (e.g. `skew`, `kurtosis`), the default behavior of `mode` typically preserves the axis it acts along. In SciPy 1.11.0, this behavior will change: the default value of `keepdims` will become False, the `axis` over which the statistic is taken will be eliminated, and the value None will no longer be accepted. Set `keepdims` to True or False to avoid this warning.\n",
      "  mode, _ = stats.mode(_y[neigh_ind, k], axis=1)\n",
      "c:\\Users\\julie\\anaconda3\\lib\\site-packages\\sklearn\\neighbors\\_classification.py:228: FutureWarning: Unlike other reduction functions (e.g. `skew`, `kurtosis`), the default behavior of `mode` typically preserves the axis it acts along. In SciPy 1.11.0, this behavior will change: the default value of `keepdims` will become False, the `axis` over which the statistic is taken will be eliminated, and the value None will no longer be accepted. Set `keepdims` to True or False to avoid this warning.\n",
      "  mode, _ = stats.mode(_y[neigh_ind, k], axis=1)\n",
      "c:\\Users\\julie\\anaconda3\\lib\\site-packages\\sklearn\\neighbors\\_classification.py:228: FutureWarning: Unlike other reduction functions (e.g. `skew`, `kurtosis`), the default behavior of `mode` typically preserves the axis it acts along. In SciPy 1.11.0, this behavior will change: the default value of `keepdims` will become False, the `axis` over which the statistic is taken will be eliminated, and the value None will no longer be accepted. Set `keepdims` to True or False to avoid this warning.\n",
      "  mode, _ = stats.mode(_y[neigh_ind, k], axis=1)\n",
      "c:\\Users\\julie\\anaconda3\\lib\\site-packages\\sklearn\\neighbors\\_classification.py:228: FutureWarning: Unlike other reduction functions (e.g. `skew`, `kurtosis`), the default behavior of `mode` typically preserves the axis it acts along. In SciPy 1.11.0, this behavior will change: the default value of `keepdims` will become False, the `axis` over which the statistic is taken will be eliminated, and the value None will no longer be accepted. Set `keepdims` to True or False to avoid this warning.\n",
      "  mode, _ = stats.mode(_y[neigh_ind, k], axis=1)\n",
      "c:\\Users\\julie\\anaconda3\\lib\\site-packages\\sklearn\\neighbors\\_classification.py:228: FutureWarning: Unlike other reduction functions (e.g. `skew`, `kurtosis`), the default behavior of `mode` typically preserves the axis it acts along. In SciPy 1.11.0, this behavior will change: the default value of `keepdims` will become False, the `axis` over which the statistic is taken will be eliminated, and the value None will no longer be accepted. Set `keepdims` to True or False to avoid this warning.\n",
      "  mode, _ = stats.mode(_y[neigh_ind, k], axis=1)\n",
      "c:\\Users\\julie\\anaconda3\\lib\\site-packages\\sklearn\\neighbors\\_classification.py:228: FutureWarning: Unlike other reduction functions (e.g. `skew`, `kurtosis`), the default behavior of `mode` typically preserves the axis it acts along. In SciPy 1.11.0, this behavior will change: the default value of `keepdims` will become False, the `axis` over which the statistic is taken will be eliminated, and the value None will no longer be accepted. Set `keepdims` to True or False to avoid this warning.\n",
      "  mode, _ = stats.mode(_y[neigh_ind, k], axis=1)\n",
      "c:\\Users\\julie\\anaconda3\\lib\\site-packages\\sklearn\\neighbors\\_classification.py:228: FutureWarning: Unlike other reduction functions (e.g. `skew`, `kurtosis`), the default behavior of `mode` typically preserves the axis it acts along. In SciPy 1.11.0, this behavior will change: the default value of `keepdims` will become False, the `axis` over which the statistic is taken will be eliminated, and the value None will no longer be accepted. Set `keepdims` to True or False to avoid this warning.\n",
      "  mode, _ = stats.mode(_y[neigh_ind, k], axis=1)\n",
      "c:\\Users\\julie\\anaconda3\\lib\\site-packages\\sklearn\\neighbors\\_classification.py:228: FutureWarning: Unlike other reduction functions (e.g. `skew`, `kurtosis`), the default behavior of `mode` typically preserves the axis it acts along. In SciPy 1.11.0, this behavior will change: the default value of `keepdims` will become False, the `axis` over which the statistic is taken will be eliminated, and the value None will no longer be accepted. Set `keepdims` to True or False to avoid this warning.\n",
      "  mode, _ = stats.mode(_y[neigh_ind, k], axis=1)\n"
     ]
    }
   ],
   "source": [
    "nb_neigh = 20\n",
    "accuracy = [0]*nb_neigh\n",
    "for i in range(1,nb_neigh):\n",
    "    # Training the classifier & predicting on test data\n",
    "    classifier = KNeighborsClassifier(n_neighbors = i)\n",
    "    classifier.fit(X_train, y_train)\n",
    "    \n",
    "    y_pred = classifier.predict(X_test)\n",
    "\n",
    "    accuracy[i] = accuracy_score(y_test, y_pred)\n"
   ]
  },
  {
   "cell_type": "code",
   "execution_count": 19,
   "metadata": {},
   "outputs": [
    {
     "data": {
      "text/plain": [
       "[<matplotlib.lines.Line2D at 0x1d879088460>]"
      ]
     },
     "execution_count": 19,
     "metadata": {},
     "output_type": "execute_result"
    },
    {
     "data": {
      "image/png": "[encoded data removed]",
      "text/plain": [
       "<Figure size 640x480 with 1 Axes>"
      ]
     },
     "metadata": {},
     "output_type": "display_data"
    }
   ],
   "source": [
    "plt.plot(accuracy)"
   ]
  },
  {
   "cell_type": "code",
   "execution_count": 20,
   "metadata": {},
   "outputs": [
    {
     "name": "stderr",
     "output_type": "stream",
     "text": [
      "c:\\Users\\julie\\anaconda3\\lib\\site-packages\\sklearn\\neighbors\\_classification.py:228: FutureWarning: Unlike other reduction functions (e.g. `skew`, `kurtosis`), the default behavior of `mode` typically preserves the axis it acts along. In SciPy 1.11.0, this behavior will change: the default value of `keepdims` will become False, the `axis` over which the statistic is taken will be eliminated, and the value None will no longer be accepted. Set `keepdims` to True or False to avoid this warning.\n",
      "  mode, _ = stats.mode(_y[neigh_ind, k], axis=1)\n"
     ]
    },
    {
     "name": "stdout",
     "output_type": "stream",
     "text": [
      "\n",
      " Accuracy:  0.7046556741028128\n",
      "\n",
      "Classification Report\n",
      "======================================================\n",
      "\n",
      "                 precision    recall  f1-score   support\n",
      "\n",
      "ARTS & CULTURE       0.71      0.75      0.73       302\n",
      "      BUSINESS       0.64      0.71      0.67       137\n",
      "        COMEDY       0.69      0.61      0.65       115\n",
      "         CRIME       0.65      0.73      0.69        95\n",
      "     EDUCATION       0.79      0.86      0.82       156\n",
      " ENTERTAINMENT       0.60      0.58      0.59       151\n",
      "   ENVIRONMENT       0.66      0.75      0.71       150\n",
      "         MEDIA       0.79      0.54      0.64       108\n",
      "      POLITICS       0.62      0.71      0.66       149\n",
      "      RELIGION       0.75      0.80      0.78       157\n",
      "       SCIENCE       0.81      0.61      0.70       108\n",
      "        SPORTS       0.81      0.85      0.83       137\n",
      "          TECH       0.75      0.74      0.74       153\n",
      "         WOMEN       0.65      0.49      0.56       144\n",
      "\n",
      "      accuracy                           0.70      2062\n",
      "     macro avg       0.71      0.69      0.70      2062\n",
      "  weighted avg       0.71      0.70      0.70      2062\n",
      "\n",
      "\n",
      " Accuracy:  0.778124350176752\n"
     ]
    },
    {
     "name": "stderr",
     "output_type": "stream",
     "text": [
      "c:\\Users\\julie\\anaconda3\\lib\\site-packages\\sklearn\\neighbors\\_classification.py:228: FutureWarning: Unlike other reduction functions (e.g. `skew`, `kurtosis`), the default behavior of `mode` typically preserves the axis it acts along. In SciPy 1.11.0, this behavior will change: the default value of `keepdims` will become False, the `axis` over which the statistic is taken will be eliminated, and the value None will no longer be accepted. Set `keepdims` to True or False to avoid this warning.\n",
      "  mode, _ = stats.mode(_y[neigh_ind, k], axis=1)\n"
     ]
    }
   ],
   "source": [
    "neigh = 7\n",
    "\n",
    "# Training the classifier & predicting on test data\n",
    "classifier = KNeighborsClassifier(n_neighbors = neigh)\n",
    "classifier.fit(X_train, y_train)\n",
    "\n",
    "y_pred = classifier.predict(X_test)\n",
    "y_pred2 = classifier.predict(X_train)\n",
    "\n",
    "# Classification metrics\n",
    "classification_report2 = classification_report(y_test, y_pred)\n",
    "\n",
    "print('\\n Accuracy: ', accuracy_score(y_test, y_pred))\n",
    "print('\\nClassification Report')\n",
    "print('======================================================')\n",
    "print('\\n', classification_report2)\n",
    "print('\\n Accuracy: ', accuracy_score(y_train, y_pred2))"
   ]
  },
  {
   "attachments": {},
   "cell_type": "markdown",
   "metadata": {},
   "source": [
    "<h4> Decision Tree"
   ]
  },
  {
   "cell_type": "code",
   "execution_count": 21,
   "metadata": {},
   "outputs": [
    {
     "name": "stdout",
     "output_type": "stream",
     "text": [
      "\n",
      " Accuracy:  0.507274490785645\n",
      "\n",
      "Classification Report\n",
      "======================================================\n",
      "\n",
      "                 precision    recall  f1-score   support\n",
      "\n",
      "ARTS & CULTURE       0.66      0.60      0.63       302\n",
      "      BUSINESS       0.38      0.45      0.41       137\n",
      "        COMEDY       0.50      0.52      0.51       115\n",
      "         CRIME       0.55      0.49      0.52        95\n",
      "     EDUCATION       0.68      0.60      0.64       156\n",
      " ENTERTAINMENT       0.40      0.42      0.41       151\n",
      "   ENVIRONMENT       0.47      0.49      0.48       150\n",
      "         MEDIA       0.38      0.25      0.30       108\n",
      "      POLITICS       0.40      0.44      0.42       149\n",
      "      RELIGION       0.58      0.58      0.58       157\n",
      "       SCIENCE       0.58      0.53      0.55       108\n",
      "        SPORTS       0.61      0.60      0.60       137\n",
      "          TECH       0.40      0.48      0.44       153\n",
      "         WOMEN       0.45      0.48      0.47       144\n",
      "\n",
      "      accuracy                           0.51      2062\n",
      "     macro avg       0.50      0.50      0.50      2062\n",
      "  weighted avg       0.51      0.51      0.51      2062\n",
      "\n"
     ]
    }
   ],
   "source": [
    "# Training the classifier & predicting on test data\n",
    "classifier = DecisionTreeClassifier(random_state=0)\n",
    "classifier.fit(X_train, y_train)\n",
    "\n",
    "y_pred = classifier.predict(X_test)\n",
    "\n",
    "# Classification metrics\n",
    "classification_report4 = classification_report(y_test, y_pred)\n",
    "\n",
    "print('\\n Accuracy: ', accuracy_score(y_test, y_pred))\n",
    "print('\\nClassification Report')\n",
    "print('======================================================')\n",
    "print('\\n', classification_report4)"
   ]
  },
  {
   "attachments": {},
   "cell_type": "markdown",
   "metadata": {},
   "source": [
    "<h4> Random Forest"
   ]
  },
  {
   "attachments": {},
   "cell_type": "markdown",
   "metadata": {},
   "source": [
    "<h5> Grid Search"
   ]
  },
  {
   "cell_type": "code",
   "execution_count": 22,
   "metadata": {},
   "outputs": [
    {
     "name": "stdout",
     "output_type": "stream",
     "text": [
      "2000 5 10 10\n",
      "0.42531522793404464\n"
     ]
    }
   ],
   "source": [
    "n_est = [2000]\n",
    "\n",
    "depth = [5]\n",
    "\n",
    "min_samp_split = [10]\n",
    "\n",
    "min_leaf = [10]\n",
    "\n",
    "cpt_i = 0\n",
    "cpt_j = 0\n",
    "cpt_k = 0\n",
    "cpt_l = 0\n",
    "\n",
    "accuracy = np.zeros([len(n_est), len(depth), len(min_samp_split), len(min_leaf)])\n",
    "for i in n_est:\n",
    "    cpt_j=0\n",
    "    for j in depth:\n",
    "        cpt_k=0\n",
    "        for k in min_samp_split:\n",
    "            cpt_l=0\n",
    "            for l in min_leaf:\n",
    "                # Training the classifier & predicting on test data\n",
    "                print(i,j,k,l)\n",
    "                classifier = RandomForestClassifier(n_estimators =i, max_depth=j, min_samples_split = k , min_samples_leaf = l, random_state=0)\n",
    "                classifier.fit(X_train, y_train)\n",
    "    \n",
    "                y_pred = classifier.predict(X_test)\n",
    "\n",
    "                print(accuracy_score(y_test, y_pred))\n",
    "                accuracy[cpt_i, cpt_j, cpt_k, cpt_l] = accuracy_score(y_test, y_pred)\n",
    "                cpt_l+=1\n",
    "            cpt_k+=1\n",
    "        cpt_j+=1\n",
    "    cpt_i+=1\n",
    "    \n",
    "    \n",
    "    "
   ]
  },
  {
   "cell_type": "code",
   "execution_count": 23,
   "metadata": {},
   "outputs": [],
   "source": [
    "min_depth = 15\n",
    "max_depth = 30\n",
    "\n",
    "accuracy = [0]*(max_depth-min_depth)\n",
    "\n",
    "for i in range(min_depth,max_depth):\n",
    "    # Training the classifier & predicting on test data\n",
    "    classifier = RandomForestClassifier(max_depth=i, random_state=0)\n",
    "    classifier.fit(X_train, y_train)\n",
    "    \n",
    "    y_pred = classifier.predict(X_test)\n",
    "\n",
    "    accuracy[i-min_depth] = accuracy_score(y_test, y_pred)\n"
   ]
  },
  {
   "cell_type": "code",
   "execution_count": 24,
   "metadata": {},
   "outputs": [
    {
     "data": {
      "text/plain": [
       "[<matplotlib.lines.Line2D at 0x1d879892d30>]"
      ]
     },
     "execution_count": 24,
     "metadata": {},
     "output_type": "execute_result"
    },
    {
     "data": {
      "image/png": "[encoded data removed]",
      "text/plain": [
       "<Figure size 640x480 with 1 Axes>"
      ]
     },
     "metadata": {},
     "output_type": "display_data"
    }
   ],
   "source": [
    "plt.plot(accuracy)"
   ]
  },
  {
   "cell_type": "code",
   "execution_count": 25,
   "metadata": {},
   "outputs": [
    {
     "name": "stdout",
     "output_type": "stream",
     "text": [
      "\n",
      " Accuracy:  0.42870999030067897\n",
      "\n",
      "Classification Report\n",
      "======================================================\n",
      "\n",
      "                 precision    recall  f1-score   support\n",
      "\n",
      "ARTS & CULTURE       0.22      0.98      0.37       302\n",
      "      BUSINESS       0.58      0.10      0.17       137\n",
      "        COMEDY       0.81      0.42      0.55       115\n",
      "         CRIME       0.88      0.07      0.14        95\n",
      "     EDUCATION       0.81      0.78      0.79       156\n",
      " ENTERTAINMENT       0.67      0.01      0.03       151\n",
      "   ENVIRONMENT       0.86      0.12      0.21       150\n",
      "         MEDIA       0.00      0.00      0.00       108\n",
      "      POLITICS       0.76      0.46      0.57       149\n",
      "      RELIGION       0.85      0.58      0.69       157\n",
      "       SCIENCE       0.85      0.26      0.40       108\n",
      "        SPORTS       0.85      0.76      0.80       137\n",
      "          TECH       0.74      0.37      0.49       153\n",
      "         WOMEN       0.67      0.21      0.32       144\n",
      "\n",
      "      accuracy                           0.43      2062\n",
      "     macro avg       0.68      0.37      0.39      2062\n",
      "  weighted avg       0.65      0.43      0.41      2062\n",
      "\n",
      "\n",
      " Accuracy train:  0.4843002703264712\n"
     ]
    },
    {
     "name": "stderr",
     "output_type": "stream",
     "text": [
      "c:\\Users\\julie\\anaconda3\\lib\\site-packages\\sklearn\\metrics\\_classification.py:1318: UndefinedMetricWarning: Precision and F-score are ill-defined and being set to 0.0 in labels with no predicted samples. Use `zero_division` parameter to control this behavior.\n",
      "  _warn_prf(average, modifier, msg_start, len(result))\n",
      "c:\\Users\\julie\\anaconda3\\lib\\site-packages\\sklearn\\metrics\\_classification.py:1318: UndefinedMetricWarning: Precision and F-score are ill-defined and being set to 0.0 in labels with no predicted samples. Use `zero_division` parameter to control this behavior.\n",
      "  _warn_prf(average, modifier, msg_start, len(result))\n",
      "c:\\Users\\julie\\anaconda3\\lib\\site-packages\\sklearn\\metrics\\_classification.py:1318: UndefinedMetricWarning: Precision and F-score are ill-defined and being set to 0.0 in labels with no predicted samples. Use `zero_division` parameter to control this behavior.\n",
      "  _warn_prf(average, modifier, msg_start, len(result))\n"
     ]
    }
   ],
   "source": [
    "depth = 5\n",
    "\n",
    "# Training the classifier & predicting on test data\n",
    "classifier = RandomForestClassifier(max_depth=depth, random_state=0)\n",
    "classifier.fit(X_train, y_train)\n",
    "\n",
    "y_pred = classifier.predict(X_test)\n",
    "y_pred2 = classifier.predict(X_train)\n",
    "\n",
    "# Classification metrics\n",
    "classification_report3 = classification_report(y_test, y_pred)\n",
    "\n",
    "print('\\n Accuracy: ', accuracy_score(y_test, y_pred))\n",
    "print('\\nClassification Report')\n",
    "print('======================================================')\n",
    "print('\\n', classification_report3)\n",
    "print('\\n Accuracy train: ', accuracy_score(y_train, y_pred2))"
   ]
  },
  {
   "attachments": {},
   "cell_type": "markdown",
   "metadata": {},
   "source": [
    "<h4> Logistic Regression"
   ]
  },
  {
   "cell_type": "code",
   "execution_count": 26,
   "metadata": {},
   "outputs": [
    {
     "name": "stdout",
     "output_type": "stream",
     "text": [
      "\n",
      " Accuracy test:  0.7919495635305529\n",
      "\n",
      "Classification Report\n",
      "======================================================\n",
      "\n",
      "                 precision    recall  f1-score   support\n",
      "\n",
      "ARTS & CULTURE       0.80      0.89      0.84       302\n",
      "      BUSINESS       0.62      0.71      0.66       137\n",
      "        COMEDY       0.85      0.67      0.75       115\n",
      "         CRIME       0.79      0.79      0.79        95\n",
      "     EDUCATION       0.89      0.82      0.85       156\n",
      " ENTERTAINMENT       0.77      0.79      0.78       151\n",
      "   ENVIRONMENT       0.73      0.85      0.78       150\n",
      "         MEDIA       0.85      0.67      0.75       108\n",
      "      POLITICS       0.75      0.76      0.75       149\n",
      "      RELIGION       0.86      0.89      0.87       157\n",
      "       SCIENCE       0.93      0.70      0.80       108\n",
      "        SPORTS       0.90      0.90      0.90       137\n",
      "          TECH       0.77      0.75      0.76       153\n",
      "         WOMEN       0.70      0.71      0.71       144\n",
      "\n",
      "      accuracy                           0.79      2062\n",
      "     macro avg       0.80      0.78      0.79      2062\n",
      "  weighted avg       0.80      0.79      0.79      2062\n",
      "\n",
      "\n",
      " Accuracy train:  0.9001871490954461\n"
     ]
    }
   ],
   "source": [
    "# Training the classifier & predicting on test data\n",
    "classifier = LogisticRegression(random_state=0)\n",
    "classifier.fit(X_train, y_train)\n",
    "\n",
    "y_pred = classifier.predict(X_test)\n",
    "y_pred2 = classifier.predict(X_train)\n",
    "# Classification metrics\n",
    "classification_report5 = classification_report(y_test, y_pred)\n",
    "\n",
    "print('\\n Accuracy test: ', accuracy_score(y_test, y_pred))\n",
    "print('\\nClassification Report')\n",
    "print('======================================================')\n",
    "print('\\n', classification_report5)\n",
    "\n",
    "print('\\n Accuracy train: ', accuracy_score(y_train, y_pred2))"
   ]
  },
  {
   "cell_type": "code",
   "execution_count": null,
   "metadata": {},
   "outputs": [],
   "source": []
  }
 ],
 "metadata": {
  "kernelspec": {
   "display_name": "base",
   "language": "python",
   "name": "python3"
  },
  "language_info": {
   "codemirror_mode": {
    "name": "ipython",
    "version": 3
   },
   "file_extension": ".py",
   "mimetype": "text/x-python",
   "name": "python",
   "nbconvert_exporter": "python",
   "pygments_lexer": "ipython3",
   "version": "3.9.13"
  },
  "orig_nbformat": 4,
  "vscode": {
   "interpreter": {
    "hash": "dc19f1aca79640f29e4f4d7df31b19f58d3c80ef392b15c9e85b5fe0f1809e47"
   }
  }
 },
 "nbformat": 4,
 "nbformat_minor": 2
}
