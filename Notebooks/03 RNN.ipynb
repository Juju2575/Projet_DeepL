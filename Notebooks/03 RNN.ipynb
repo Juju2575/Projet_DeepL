{
 "cells": [
  {
   "attachments": {},
   "cell_type": "markdown",
   "metadata": {},
   "source": [
    "<h1> Imports"
   ]
  },
  {
   "cell_type": "code",
   "execution_count": 84,
   "metadata": {},
   "outputs": [],
   "source": [
    "import torch\n",
    "import torch.nn as nn\n",
    "import torch.optim as optim\n",
    "import torch.nn.functional as F \n",
    "from torch.utils.data import Dataset, DataLoader\n",
    "\n",
    "import numpy as np\n",
    "import pandas as pd \n",
    "from sklearn.model_selection import train_test_split\n",
    "import matplotlib.pyplot as plt\n",
    "import seaborn as sns\n",
    "import time\n",
    "import re\n",
    "import string\n",
    "import nltk\n",
    "import os\n",
    "import random"
   ]
  },
  {
   "cell_type": "code",
   "execution_count": 85,
   "metadata": {},
   "outputs": [],
   "source": [
    "# !pip install torchtext==0.10.0 --user"
   ]
  },
  {
   "cell_type": "code",
   "execution_count": 86,
   "metadata": {},
   "outputs": [],
   "source": [
    "# !pip install torch==1.11.0 torchtext==0.12.0 --user"
   ]
  },
  {
   "cell_type": "code",
   "execution_count": 87,
   "metadata": {},
   "outputs": [],
   "source": [
    "import torchtext\n",
    "from torchtext.data import get_tokenizer\n",
    "from torchtext.vocab import build_vocab_from_iterator\n",
    "from torch.utils.data import DataLoader\n",
    "from torchtext.data.functional import to_map_style_dataset"
   ]
  },
  {
   "attachments": {},
   "cell_type": "markdown",
   "metadata": {},
   "source": [
    "<h1>Import Data"
   ]
  },
  {
   "cell_type": "code",
   "execution_count": 88,
   "metadata": {},
   "outputs": [],
   "source": [
    "max_words = 25"
   ]
  },
  {
   "cell_type": "code",
   "execution_count": 89,
   "metadata": {},
   "outputs": [],
   "source": [
    "data = pd.read_csv('../Data/news-article-categories-clean.csv')"
   ]
  },
  {
   "attachments": {},
   "cell_type": "markdown",
   "metadata": {},
   "source": [
    "<h1> Vocabulary"
   ]
  },
  {
   "cell_type": "code",
   "execution_count": 90,
   "metadata": {},
   "outputs": [
    {
     "data": {
      "text/plain": [
       "66936"
      ]
     },
     "execution_count": 90,
     "metadata": {},
     "output_type": "execute_result"
    }
   ],
   "source": [
    "tokenizer = get_tokenizer(\"basic_english\")\n",
    "\n",
    "data['tok_body'] = data.body.apply(lambda x: tokenizer(x))\n",
    "\n",
    "vocab = build_vocab_from_iterator(data['tok_body'], min_freq=1, specials=[\"<UNK>\"])\n",
    "\n",
    "vocab.set_default_index(vocab[\"<UNK>\"])\n",
    "\n",
    "len(vocab)"
   ]
  },
  {
   "attachments": {},
   "cell_type": "markdown",
   "metadata": {},
   "source": [
    "<h1> Tokenization"
   ]
  },
  {
   "cell_type": "code",
   "execution_count": 91,
   "metadata": {},
   "outputs": [],
   "source": [
    "data[\"cat\"] = pd.Categorical(data.category)\n",
    "data['cat_code'] = data.cat.cat.codes"
   ]
  },
  {
   "cell_type": "code",
   "execution_count": 92,
   "metadata": {},
   "outputs": [],
   "source": [
    "data[\"body_tok\"] = data[\"body\"].apply(lambda x: vocab(tokenizer(x)))"
   ]
  },
  {
   "cell_type": "code",
   "execution_count": 93,
   "metadata": {},
   "outputs": [],
   "source": [
    "data[\"body_max_len\"] = data[\"body_tok\"].apply(lambda x: x+([0]* (max_words-len(x))) if len(x)<max_words else x[:max_words])"
   ]
  },
  {
   "cell_type": "code",
   "execution_count": 94,
   "metadata": {},
   "outputs": [],
   "source": [
    "#Dropping rows of the biggest category so the RNN doesn't overfit\n",
    "data = data.drop(range(0, 500), axis = 0)\n",
    "data.reset_index(drop=True, inplace=True)"
   ]
  },
  {
   "cell_type": "code",
   "execution_count": 95,
   "metadata": {},
   "outputs": [
    {
     "name": "stdout",
     "output_type": "stream",
     "text": [
      "<class 'pandas.core.frame.DataFrame'>\n",
      "RangeIndex: 6371 entries, 0 to 6370\n",
      "Data columns (total 8 columns):\n",
      " #   Column        Non-Null Count  Dtype   \n",
      "---  ------        --------------  -----   \n",
      " 0   category      6371 non-null   object  \n",
      " 1   title         6371 non-null   object  \n",
      " 2   body          6371 non-null   object  \n",
      " 3   tok_body      6371 non-null   object  \n",
      " 4   cat           6371 non-null   category\n",
      " 5   cat_code      6371 non-null   int8    \n",
      " 6   body_tok      6371 non-null   object  \n",
      " 7   body_max_len  6371 non-null   object  \n",
      "dtypes: category(1), int8(1), object(6)\n",
      "memory usage: 311.9+ KB\n"
     ]
    }
   ],
   "source": [
    "data_sans_na = data.dropna()\n",
    "data_sans_na.info()"
   ]
  },
  {
   "attachments": {},
   "cell_type": "markdown",
   "metadata": {},
   "source": [
    "<h1>Target Classes"
   ]
  },
  {
   "cell_type": "code",
   "execution_count": 96,
   "metadata": {},
   "outputs": [],
   "source": [
    "target_classes = [\"ART & CULTURE\",\"BUSINESS\",\"COMEDY\",\"CRIME\",\"EDUCATION\",\"ENTERTAINMENT\",\"ENVIRONMENT\",\"MEDIA\",\"POLITICS\",\"RELIGION\",\"SCIENCE\",\"SPORTS\",\"TECH\",\"WOMEN\"]\n",
    "# target_classes = [\"BUSINESS\",\"COMEDY\",\"CRIME\",\"EDUCATION\",\"ENTERTAINMENT\",\"ENVIRONMENT\",\"MEDIA\",\"POLITICS\",\"RELIGION\",\"SCIENCE\",\"SPORTS\",\"TECH\",\"WOMEN\"]"
   ]
  },
  {
   "cell_type": "code",
   "execution_count": 97,
   "metadata": {},
   "outputs": [
    {
     "data": {
      "text/plain": [
       "14"
      ]
     },
     "execution_count": 97,
     "metadata": {},
     "output_type": "execute_result"
    }
   ],
   "source": [
    "len(target_classes)"
   ]
  },
  {
   "cell_type": "code",
   "execution_count": 98,
   "metadata": {},
   "outputs": [],
   "source": [
    "target_classes_int = [i for i in range(14)]"
   ]
  },
  {
   "attachments": {},
   "cell_type": "markdown",
   "metadata": {},
   "source": [
    "<h1>Train / Test Split"
   ]
  },
  {
   "cell_type": "code",
   "execution_count": 99,
   "metadata": {},
   "outputs": [],
   "source": [
    "X = data_sans_na.drop([\"category\", \"cat_code\", \"cat\"], axis =1)\n",
    "y = data_sans_na[\"cat_code\"]"
   ]
  },
  {
   "cell_type": "code",
   "execution_count": 100,
   "metadata": {},
   "outputs": [
    {
     "data": {
      "text/html": [
       "<div>\n",
       "<style scoped>\n",
       "    .dataframe tbody tr th:only-of-type {\n",
       "        vertical-align: middle;\n",
       "    }\n",
       "\n",
       "    .dataframe tbody tr th {\n",
       "        vertical-align: top;\n",
       "    }\n",
       "\n",
       "    .dataframe thead th {\n",
       "        text-align: right;\n",
       "    }\n",
       "</style>\n",
       "<table border=\"1\" class=\"dataframe\">\n",
       "  <thead>\n",
       "    <tr style=\"text-align: right;\">\n",
       "      <th></th>\n",
       "      <th>title</th>\n",
       "      <th>body</th>\n",
       "      <th>tok_body</th>\n",
       "      <th>body_tok</th>\n",
       "      <th>body_max_len</th>\n",
       "    </tr>\n",
       "  </thead>\n",
       "  <tbody>\n",
       "    <tr>\n",
       "      <th>0</th>\n",
       "      <td>John Williams Has Never Seen 'Star Wars,' Does...</td>\n",
       "      <td>musical composition simply destined live forev...</td>\n",
       "      <td>[musical, composition, simply, destined, live,...</td>\n",
       "      <td>[958, 3831, 511, 11952, 195, 2014, 724, 408, 6...</td>\n",
       "      <td>[958, 3831, 511, 11952, 195, 2014, 724, 408, 6...</td>\n",
       "    </tr>\n",
       "    <tr>\n",
       "      <th>1</th>\n",
       "      <td>An Alert, Well-Hydrated Artist in No Acute Dis...</td>\n",
       "      <td>serial two artist incurable neurological disea...</td>\n",
       "      <td>[serial, two, artist, incurable, neurological,...</td>\n",
       "      <td>[3155, 28, 106, 26752, 10908, 1361, 1230, 481,...</td>\n",
       "      <td>[3155, 28, 106, 26752, 10908, 1361, 1230, 481,...</td>\n",
       "    </tr>\n",
       "    <tr>\n",
       "      <th>2</th>\n",
       "      <td>Stage Door: Ute Lemper's Songs From The Broken...</td>\n",
       "      <td>ute lemper acclaimed german chanteuse bares co...</td>\n",
       "      <td>[ute, lemper, acclaimed, german, chanteuse, ba...</td>\n",
       "      <td>[41585, 24026, 4984, 2130, 34756, 43671, 10456...</td>\n",
       "      <td>[41585, 24026, 4984, 2130, 34756, 43671, 10456...</td>\n",
       "    </tr>\n",
       "    <tr>\n",
       "      <th>3</th>\n",
       "      <td>Donna Quesada: Art Review</td>\n",
       "      <td>dear friend larry payne mentioned purchased th...</td>\n",
       "      <td>[dear, friend, larry, payne, mentioned, purcha...</td>\n",
       "      <td>[2410, 133, 1409, 8487, 2248, 3461, 101, 7306,...</td>\n",
       "      <td>[2410, 133, 1409, 8487, 2248, 3461, 101, 7306,...</td>\n",
       "    </tr>\n",
       "    <tr>\n",
       "      <th>4</th>\n",
       "      <td>Top 5 Sizzling Hot Winter Music Festivals in F...</td>\n",
       "      <td>andrew cyrille photo petra cvelbar thelonious ...</td>\n",
       "      <td>[andrew, cyrille, photo, petra, cvelbar, thelo...</td>\n",
       "      <td>[2040, 35217, 170, 9271, 46730, 13211, 5778, 1...</td>\n",
       "      <td>[2040, 35217, 170, 9271, 46730, 13211, 5778, 1...</td>\n",
       "    </tr>\n",
       "  </tbody>\n",
       "</table>\n",
       "</div>"
      ],
      "text/plain": [
       "                                               title  \\\n",
       "0  John Williams Has Never Seen 'Star Wars,' Does...   \n",
       "1  An Alert, Well-Hydrated Artist in No Acute Dis...   \n",
       "2  Stage Door: Ute Lemper's Songs From The Broken...   \n",
       "3                          Donna Quesada: Art Review   \n",
       "4  Top 5 Sizzling Hot Winter Music Festivals in F...   \n",
       "\n",
       "                                                body  \\\n",
       "0  musical composition simply destined live forev...   \n",
       "1  serial two artist incurable neurological disea...   \n",
       "2  ute lemper acclaimed german chanteuse bares co...   \n",
       "3  dear friend larry payne mentioned purchased th...   \n",
       "4  andrew cyrille photo petra cvelbar thelonious ...   \n",
       "\n",
       "                                            tok_body  \\\n",
       "0  [musical, composition, simply, destined, live,...   \n",
       "1  [serial, two, artist, incurable, neurological,...   \n",
       "2  [ute, lemper, acclaimed, german, chanteuse, ba...   \n",
       "3  [dear, friend, larry, payne, mentioned, purcha...   \n",
       "4  [andrew, cyrille, photo, petra, cvelbar, thelo...   \n",
       "\n",
       "                                            body_tok  \\\n",
       "0  [958, 3831, 511, 11952, 195, 2014, 724, 408, 6...   \n",
       "1  [3155, 28, 106, 26752, 10908, 1361, 1230, 481,...   \n",
       "2  [41585, 24026, 4984, 2130, 34756, 43671, 10456...   \n",
       "3  [2410, 133, 1409, 8487, 2248, 3461, 101, 7306,...   \n",
       "4  [2040, 35217, 170, 9271, 46730, 13211, 5778, 1...   \n",
       "\n",
       "                                        body_max_len  \n",
       "0  [958, 3831, 511, 11952, 195, 2014, 724, 408, 6...  \n",
       "1  [3155, 28, 106, 26752, 10908, 1361, 1230, 481,...  \n",
       "2  [41585, 24026, 4984, 2130, 34756, 43671, 10456...  \n",
       "3  [2410, 133, 1409, 8487, 2248, 3461, 101, 7306,...  \n",
       "4  [2040, 35217, 170, 9271, 46730, 13211, 5778, 1...  "
      ]
     },
     "execution_count": 100,
     "metadata": {},
     "output_type": "execute_result"
    }
   ],
   "source": [
    "X.head()"
   ]
  },
  {
   "cell_type": "code",
   "execution_count": 101,
   "metadata": {},
   "outputs": [
    {
     "data": {
      "text/plain": [
       "0    0\n",
       "1    0\n",
       "2    0\n",
       "3    0\n",
       "4    0\n",
       "Name: cat_code, dtype: int8"
      ]
     },
     "execution_count": 101,
     "metadata": {},
     "output_type": "execute_result"
    }
   ],
   "source": [
    "y.head()"
   ]
  },
  {
   "cell_type": "code",
   "execution_count": 102,
   "metadata": {},
   "outputs": [],
   "source": [
    "X_train, X_test, y_train, y_test = train_test_split(X, y, test_size=0.2, random_state=12)"
   ]
  },
  {
   "cell_type": "code",
   "execution_count": 103,
   "metadata": {},
   "outputs": [],
   "source": [
    "train = pd.concat([X_train, y_train], axis=1)\n",
    "test = pd.concat([X_test, y_test], axis=1)"
   ]
  },
  {
   "attachments": {},
   "cell_type": "markdown",
   "metadata": {},
   "source": [
    "<h1> Vectorize Batch"
   ]
  },
  {
   "cell_type": "code",
   "execution_count": 104,
   "metadata": {},
   "outputs": [],
   "source": [
    "def vectorize_batch(batch):\n",
    "    Y = tuple(map(lambda x: x[\"label\"], batch))\n",
    "    X = tuple(map(lambda x: x[\"text\"], batch))\n",
    "    X_t = torch.tensor(X,dtype=torch.long)\n",
    "    Y_t = torch.tensor(Y, dtype=torch.long)\n",
    "    return X_t, Y_t \n",
    "   "
   ]
  },
  {
   "attachments": {},
   "cell_type": "markdown",
   "metadata": {},
   "source": [
    "<h1> Load Data"
   ]
  },
  {
   "cell_type": "code",
   "execution_count": 105,
   "metadata": {},
   "outputs": [],
   "source": [
    "# Définir une classe pour transformer un Dataframe en Dataset\n",
    "class CustomDataset(Dataset):\n",
    "    def __init__(self, data):\n",
    "        self.data = data\n",
    "\n",
    "    def __len__(self):\n",
    "        return len(self.data)\n",
    "\n",
    "    def __getitem__(self, index):\n",
    "        row = self.data.iloc[index]\n",
    "        text = row['body_max_len']\n",
    "        label = row['cat_code']\n",
    "        return {'label': label, 'text': text}\n",
    "\n",
    "# Créer une instance de la classe Dataset personnalisée\n",
    "train_dataset = CustomDataset(train)\n",
    "test_dataset = CustomDataset(test)\n",
    "\n",
    "train_dataset, test_dataset  = to_map_style_dataset(train_dataset), to_map_style_dataset(test_dataset)"
   ]
  },
  {
   "cell_type": "code",
   "execution_count": 106,
   "metadata": {},
   "outputs": [],
   "source": [
    "train_loader = DataLoader(train_dataset, batch_size=1024, collate_fn= vectorize_batch, shuffle=True)\n",
    "test_loader  = DataLoader(test_dataset , batch_size=1024, collate_fn=vectorize_batch)"
   ]
  },
  {
   "cell_type": "code",
   "execution_count": 107,
   "metadata": {},
   "outputs": [
    {
     "name": "stdout",
     "output_type": "stream",
     "text": [
      "torch.Size([1024, 25]) torch.Size([1024])\n"
     ]
    }
   ],
   "source": [
    "for X, Y in train_loader:\n",
    "    print(X.shape, Y.shape)\n",
    "    break"
   ]
  },
  {
   "attachments": {},
   "cell_type": "markdown",
   "metadata": {},
   "source": [
    "<h1> RNN"
   ]
  },
  {
   "cell_type": "code",
   "execution_count": 108,
   "metadata": {},
   "outputs": [],
   "source": [
    "#Paramètres du modèle\n",
    "EMBED_LEN = 500\n",
    "HIDDEN_SIZE1 = 300\n",
    "HIDDEN_SIZE2 = 300\n",
    "HIDDEN_SIZE3 = 300\n",
    "OUTPUT_SIZE = len(target_classes)\n",
    "N_LAYERS = 5"
   ]
  },
  {
   "cell_type": "code",
   "execution_count": 109,
   "metadata": {},
   "outputs": [],
   "source": [
    "#Classe pour le modèle RNN simple\n",
    "class RNNClassifier1(nn.Module):\n",
    "    def __init__(self):\n",
    "        super(RNNClassifier1, self).__init__()\n",
    "        self.embedding_layer = nn.Embedding(num_embeddings=len(vocab), embedding_dim=EMBED_LEN)\n",
    "        self.rnn = nn.RNN(input_size=EMBED_LEN, hidden_size=HIDDEN_SIZE1, num_layers=N_LAYERS, batch_first=True)\n",
    "        self.linear = nn.Linear(HIDDEN_SIZE1, OUTPUT_SIZE)\n",
    "\n",
    "    def forward(self, X_batch):\n",
    "        embeddings = self.embedding_layer(X_batch)\n",
    "        output, hidden = self.rnn(embeddings, torch.randn(N_LAYERS, len(X_batch), HIDDEN_SIZE1))\n",
    "        return self.linear(output[:,-1])"
   ]
  },
  {
   "cell_type": "code",
   "execution_count": 110,
   "metadata": {},
   "outputs": [],
   "source": [
    "#Classe pour le modèle a multiple RNN \n",
    "class RNNClassifier2(nn.Module):\n",
    "    def __init__(self):\n",
    "        super(RNNClassifier2, self).__init__()\n",
    "        self.embedding_layer = nn.Embedding(num_embeddings=len(vocab), embedding_dim=EMBED_LEN)\n",
    "        self.rnn1 = nn.RNN(input_size=EMBED_LEN, hidden_size=HIDDEN_SIZE1, num_layers=N_LAYERS, batch_first=True)\n",
    "        self.rnn2 = nn.RNN(input_size=HIDDEN_SIZE1, hidden_size=HIDDEN_SIZE2, num_layers=N_LAYERS, batch_first=True)\n",
    "        self.rnn3 = nn.RNN(input_size=HIDDEN_SIZE2, hidden_size=HIDDEN_SIZE3, num_layers=N_LAYERS, batch_first=True)\n",
    "        self.linear = nn.Linear(HIDDEN_SIZE3, OUTPUT_SIZE)\n",
    "\n",
    "    def forward(self, X_batch):\n",
    "        embeddings = self.embedding_layer(X_batch)\n",
    "        output, hidden = self.rnn1(embeddings, torch.randn(N_LAYERS, len(X_batch), HIDDEN_SIZE1))\n",
    "        output, hidden = self.rnn2(output, torch.randn(N_LAYERS, len(X_batch), HIDDEN_SIZE2))\n",
    "        output, hidden = self.rnn3(output, torch.randn(N_LAYERS, len(X_batch), HIDDEN_SIZE3))\n",
    "        return self.linear(output[:,-1])"
   ]
  },
  {
   "cell_type": "code",
   "execution_count": 111,
   "metadata": {},
   "outputs": [
    {
     "data": {
      "text/plain": [
       "RNNClassifier1(\n",
       "  (embedding_layer): Embedding(66936, 500)\n",
       "  (rnn): RNN(500, 200, num_layers=5, batch_first=True)\n",
       "  (linear): Linear(in_features=200, out_features=14, bias=True)\n",
       ")"
      ]
     },
     "execution_count": 111,
     "metadata": {},
     "output_type": "execute_result"
    }
   ],
   "source": [
    "rnn_classifier1 = RNNClassifier1()\n",
    "\n",
    "rnn_classifier1"
   ]
  },
  {
   "cell_type": "code",
   "execution_count": 112,
   "metadata": {},
   "outputs": [
    {
     "data": {
      "text/plain": [
       "RNNClassifier2(\n",
       "  (embedding_layer): Embedding(66936, 500)\n",
       "  (rnn1): RNN(500, 200, num_layers=5, batch_first=True)\n",
       "  (rnn2): RNN(200, 200, num_layers=5, batch_first=True)\n",
       "  (rnn3): RNN(200, 200, num_layers=5, batch_first=True)\n",
       "  (linear): Linear(in_features=200, out_features=14, bias=True)\n",
       ")"
      ]
     },
     "execution_count": 112,
     "metadata": {},
     "output_type": "execute_result"
    }
   ],
   "source": [
    "rnn_classifier2 = RNNClassifier2()\n",
    "\n",
    "rnn_classifier2"
   ]
  },
  {
   "cell_type": "code",
   "execution_count": 113,
   "metadata": {},
   "outputs": [
    {
     "name": "stdout",
     "output_type": "stream",
     "text": [
      "Layer : Embedding(66936, 500)\n",
      "Parameters : \n",
      "torch.Size([66936, 500])\n",
      "\n",
      "Layer : RNN(500, 200, num_layers=5, batch_first=True)\n",
      "Parameters : \n",
      "torch.Size([200, 500])\n",
      "torch.Size([200, 200])\n",
      "torch.Size([200])\n",
      "torch.Size([200])\n",
      "torch.Size([200, 200])\n",
      "torch.Size([200, 200])\n",
      "torch.Size([200])\n",
      "torch.Size([200])\n",
      "torch.Size([200, 200])\n",
      "torch.Size([200, 200])\n",
      "torch.Size([200])\n",
      "torch.Size([200])\n",
      "torch.Size([200, 200])\n",
      "torch.Size([200, 200])\n",
      "torch.Size([200])\n",
      "torch.Size([200])\n",
      "torch.Size([200, 200])\n",
      "torch.Size([200, 200])\n",
      "torch.Size([200])\n",
      "torch.Size([200])\n",
      "\n",
      "Layer : Linear(in_features=200, out_features=14, bias=True)\n",
      "Parameters : \n",
      "torch.Size([14, 200])\n",
      "torch.Size([14])\n",
      "\n"
     ]
    }
   ],
   "source": [
    "for layer in rnn_classifier1.children():\n",
    "    print(\"Layer : {}\".format(layer))\n",
    "    print(\"Parameters : \")\n",
    "    for param in layer.parameters():\n",
    "        print(param.shape)\n",
    "    print()"
   ]
  },
  {
   "cell_type": "code",
   "execution_count": 114,
   "metadata": {},
   "outputs": [
    {
     "data": {
      "text/plain": [
       "torch.Size([1024, 14])"
      ]
     },
     "execution_count": 114,
     "metadata": {},
     "output_type": "execute_result"
    }
   ],
   "source": [
    "out = rnn_classifier1(torch.randint(0, len(vocab), (1024, max_words)))\n",
    "\n",
    "out.shape"
   ]
  },
  {
   "cell_type": "code",
   "execution_count": 115,
   "metadata": {},
   "outputs": [],
   "source": [
    "from tqdm import tqdm\n",
    "from sklearn.metrics import accuracy_score\n",
    "import gc\n",
    "\n",
    "def calc_val_loss_and_accuracy(model, loss_fn, val_loader):\n",
    "    with torch.no_grad():\n",
    "        Y_shuffled, Y_preds, losses = [],[],[]\n",
    "        for X, Y in val_loader:\n",
    "            preds = model(X)\n",
    "            loss = loss_fn(preds, Y)\n",
    "            losses.append(loss.item())\n",
    "\n",
    "            Y_shuffled.append(Y)\n",
    "            Y_preds.append(preds.argmax(dim=-1))\n",
    "\n",
    "        Y_shuffled = torch.cat(Y_shuffled)\n",
    "        Y_preds = torch.cat(Y_preds)\n",
    "\n",
    "        print(\"Valid Loss : {:.3f}\".format(torch.tensor(losses).mean()))\n",
    "        print(\"Valid Acc  : {:.3f}\".format(accuracy_score(Y_shuffled.detach().numpy(), Y_preds.detach().numpy())))\n",
    "\n",
    "\n",
    "def train_model(model, loss_fn, optimizer, train_loader, val_loader, epochs=10):\n",
    "    for i in range(1, epochs+1):\n",
    "        losses = []\n",
    "        for X, Y in tqdm(train_loader):\n",
    "            Y_preds = model(X)\n",
    "\n",
    "            loss = loss_fn(Y_preds, Y)\n",
    "            losses.append(loss.item())\n",
    "\n",
    "            optimizer.zero_grad()\n",
    "            loss.backward()\n",
    "            optimizer.step()\n",
    "\n",
    "        print(\"Train Loss : {:.3f}\".format(torch.tensor(losses).mean()))\n",
    "        calc_val_loss_and_accuracy(model, loss_fn, val_loader)"
   ]
  },
  {
   "attachments": {},
   "cell_type": "markdown",
   "metadata": {},
   "source": [
    "<h1> Entrainement Single RNN"
   ]
  },
  {
   "cell_type": "code",
   "execution_count": 116,
   "metadata": {},
   "outputs": [],
   "source": [
    "from torch.optim import Adam\n",
    "\n",
    "epochs = 30\n",
    "learning_rate = 1e-3\n",
    "\n",
    "loss_fn = nn.CrossEntropyLoss()\n",
    "rnn_classifier = RNNClassifier1()\n",
    "optimizer = Adam(rnn_classifier.parameters(), lr=learning_rate)"
   ]
  },
  {
   "cell_type": "code",
   "execution_count": 117,
   "metadata": {},
   "outputs": [
    {
     "name": "stderr",
     "output_type": "stream",
     "text": [
      "100%|██████████| 5/5 [00:03<00:00,  1.28it/s]\n"
     ]
    },
    {
     "name": "stdout",
     "output_type": "stream",
     "text": [
      "Train Loss : 2.628\n",
      "Valid Loss : 2.609\n",
      "Valid Acc  : 0.113\n"
     ]
    },
    {
     "name": "stderr",
     "output_type": "stream",
     "text": [
      "100%|██████████| 5/5 [00:03<00:00,  1.26it/s]\n"
     ]
    },
    {
     "name": "stdout",
     "output_type": "stream",
     "text": [
      "Train Loss : 2.485\n",
      "Valid Loss : 2.510\n",
      "Valid Acc  : 0.157\n"
     ]
    },
    {
     "name": "stderr",
     "output_type": "stream",
     "text": [
      "100%|██████████| 5/5 [00:03<00:00,  1.28it/s]\n"
     ]
    },
    {
     "name": "stdout",
     "output_type": "stream",
     "text": [
      "Train Loss : 2.224\n",
      "Valid Loss : 2.421\n",
      "Valid Acc  : 0.176\n"
     ]
    },
    {
     "name": "stderr",
     "output_type": "stream",
     "text": [
      "100%|██████████| 5/5 [00:03<00:00,  1.27it/s]\n"
     ]
    },
    {
     "name": "stdout",
     "output_type": "stream",
     "text": [
      "Train Loss : 1.906\n",
      "Valid Loss : 2.414\n",
      "Valid Acc  : 0.186\n"
     ]
    },
    {
     "name": "stderr",
     "output_type": "stream",
     "text": [
      "100%|██████████| 5/5 [00:04<00:00,  1.24it/s]\n"
     ]
    },
    {
     "name": "stdout",
     "output_type": "stream",
     "text": [
      "Train Loss : 1.589\n",
      "Valid Loss : 2.446\n",
      "Valid Acc  : 0.203\n"
     ]
    },
    {
     "name": "stderr",
     "output_type": "stream",
     "text": [
      "100%|██████████| 5/5 [00:04<00:00,  1.19it/s]\n"
     ]
    },
    {
     "name": "stdout",
     "output_type": "stream",
     "text": [
      "Train Loss : 1.270\n",
      "Valid Loss : 2.497\n",
      "Valid Acc  : 0.228\n"
     ]
    },
    {
     "name": "stderr",
     "output_type": "stream",
     "text": [
      "100%|██████████| 5/5 [00:04<00:00,  1.18it/s]\n"
     ]
    },
    {
     "name": "stdout",
     "output_type": "stream",
     "text": [
      "Train Loss : 0.968\n",
      "Valid Loss : 2.556\n",
      "Valid Acc  : 0.246\n"
     ]
    },
    {
     "name": "stderr",
     "output_type": "stream",
     "text": [
      "100%|██████████| 5/5 [00:04<00:00,  1.16it/s]\n"
     ]
    },
    {
     "name": "stdout",
     "output_type": "stream",
     "text": [
      "Train Loss : 0.683\n",
      "Valid Loss : 2.731\n",
      "Valid Acc  : 0.246\n"
     ]
    },
    {
     "name": "stderr",
     "output_type": "stream",
     "text": [
      "100%|██████████| 5/5 [00:04<00:00,  1.13it/s]\n"
     ]
    },
    {
     "name": "stdout",
     "output_type": "stream",
     "text": [
      "Train Loss : 0.453\n",
      "Valid Loss : 2.878\n",
      "Valid Acc  : 0.254\n"
     ]
    },
    {
     "name": "stderr",
     "output_type": "stream",
     "text": [
      "100%|██████████| 5/5 [00:04<00:00,  1.17it/s]\n"
     ]
    },
    {
     "name": "stdout",
     "output_type": "stream",
     "text": [
      "Train Loss : 0.281\n",
      "Valid Loss : 3.004\n",
      "Valid Acc  : 0.243\n"
     ]
    },
    {
     "name": "stderr",
     "output_type": "stream",
     "text": [
      "100%|██████████| 5/5 [00:04<00:00,  1.17it/s]\n"
     ]
    },
    {
     "name": "stdout",
     "output_type": "stream",
     "text": [
      "Train Loss : 0.164\n",
      "Valid Loss : 3.130\n",
      "Valid Acc  : 0.259\n"
     ]
    },
    {
     "name": "stderr",
     "output_type": "stream",
     "text": [
      "100%|██████████| 5/5 [00:04<00:00,  1.18it/s]\n"
     ]
    },
    {
     "name": "stdout",
     "output_type": "stream",
     "text": [
      "Train Loss : 0.095\n",
      "Valid Loss : 3.333\n",
      "Valid Acc  : 0.237\n"
     ]
    },
    {
     "name": "stderr",
     "output_type": "stream",
     "text": [
      "100%|██████████| 5/5 [00:04<00:00,  1.17it/s]\n"
     ]
    },
    {
     "name": "stdout",
     "output_type": "stream",
     "text": [
      "Train Loss : 0.058\n",
      "Valid Loss : 3.374\n",
      "Valid Acc  : 0.262\n"
     ]
    },
    {
     "name": "stderr",
     "output_type": "stream",
     "text": [
      "100%|██████████| 5/5 [00:04<00:00,  1.13it/s]\n"
     ]
    },
    {
     "name": "stdout",
     "output_type": "stream",
     "text": [
      "Train Loss : 0.038\n",
      "Valid Loss : 3.454\n",
      "Valid Acc  : 0.256\n"
     ]
    },
    {
     "name": "stderr",
     "output_type": "stream",
     "text": [
      "100%|██████████| 5/5 [00:04<00:00,  1.17it/s]\n"
     ]
    },
    {
     "name": "stdout",
     "output_type": "stream",
     "text": [
      "Train Loss : 0.027\n",
      "Valid Loss : 3.547\n",
      "Valid Acc  : 0.262\n"
     ]
    },
    {
     "name": "stderr",
     "output_type": "stream",
     "text": [
      "100%|██████████| 5/5 [00:04<00:00,  1.14it/s]\n"
     ]
    },
    {
     "name": "stdout",
     "output_type": "stream",
     "text": [
      "Train Loss : 0.021\n",
      "Valid Loss : 3.589\n",
      "Valid Acc  : 0.256\n"
     ]
    },
    {
     "name": "stderr",
     "output_type": "stream",
     "text": [
      "100%|██████████| 5/5 [00:04<00:00,  1.18it/s]\n"
     ]
    },
    {
     "name": "stdout",
     "output_type": "stream",
     "text": [
      "Train Loss : 0.022\n",
      "Valid Loss : 3.605\n",
      "Valid Acc  : 0.266\n"
     ]
    },
    {
     "name": "stderr",
     "output_type": "stream",
     "text": [
      "100%|██████████| 5/5 [00:04<00:00,  1.16it/s]\n"
     ]
    },
    {
     "name": "stdout",
     "output_type": "stream",
     "text": [
      "Train Loss : 0.019\n",
      "Valid Loss : 3.657\n",
      "Valid Acc  : 0.264\n"
     ]
    },
    {
     "name": "stderr",
     "output_type": "stream",
     "text": [
      "100%|██████████| 5/5 [00:04<00:00,  1.14it/s]\n"
     ]
    },
    {
     "name": "stdout",
     "output_type": "stream",
     "text": [
      "Train Loss : 0.014\n",
      "Valid Loss : 3.706\n",
      "Valid Acc  : 0.256\n"
     ]
    },
    {
     "name": "stderr",
     "output_type": "stream",
     "text": [
      "100%|██████████| 5/5 [00:04<00:00,  1.13it/s]\n"
     ]
    },
    {
     "name": "stdout",
     "output_type": "stream",
     "text": [
      "Train Loss : 0.012\n",
      "Valid Loss : 3.757\n",
      "Valid Acc  : 0.255\n"
     ]
    },
    {
     "name": "stderr",
     "output_type": "stream",
     "text": [
      "100%|██████████| 5/5 [00:04<00:00,  1.14it/s]\n"
     ]
    },
    {
     "name": "stdout",
     "output_type": "stream",
     "text": [
      "Train Loss : 0.011\n",
      "Valid Loss : 3.768\n",
      "Valid Acc  : 0.267\n"
     ]
    },
    {
     "name": "stderr",
     "output_type": "stream",
     "text": [
      "100%|██████████| 5/5 [00:04<00:00,  1.14it/s]\n"
     ]
    },
    {
     "name": "stdout",
     "output_type": "stream",
     "text": [
      "Train Loss : 0.009\n",
      "Valid Loss : 3.775\n",
      "Valid Acc  : 0.261\n"
     ]
    },
    {
     "name": "stderr",
     "output_type": "stream",
     "text": [
      "100%|██████████| 5/5 [00:04<00:00,  1.17it/s]\n"
     ]
    },
    {
     "name": "stdout",
     "output_type": "stream",
     "text": [
      "Train Loss : 0.008\n",
      "Valid Loss : 3.795\n",
      "Valid Acc  : 0.264\n"
     ]
    },
    {
     "name": "stderr",
     "output_type": "stream",
     "text": [
      "100%|██████████| 5/5 [00:04<00:00,  1.16it/s]\n"
     ]
    },
    {
     "name": "stdout",
     "output_type": "stream",
     "text": [
      "Train Loss : 0.008\n",
      "Valid Loss : 3.842\n",
      "Valid Acc  : 0.266\n"
     ]
    },
    {
     "name": "stderr",
     "output_type": "stream",
     "text": [
      "100%|██████████| 5/5 [00:04<00:00,  1.17it/s]\n"
     ]
    },
    {
     "name": "stdout",
     "output_type": "stream",
     "text": [
      "Train Loss : 0.006\n",
      "Valid Loss : 3.842\n",
      "Valid Acc  : 0.266\n"
     ]
    },
    {
     "name": "stderr",
     "output_type": "stream",
     "text": [
      "100%|██████████| 5/5 [00:04<00:00,  1.15it/s]\n"
     ]
    },
    {
     "name": "stdout",
     "output_type": "stream",
     "text": [
      "Train Loss : 0.006\n",
      "Valid Loss : 3.861\n",
      "Valid Acc  : 0.271\n"
     ]
    },
    {
     "name": "stderr",
     "output_type": "stream",
     "text": [
      "100%|██████████| 5/5 [00:04<00:00,  1.12it/s]\n"
     ]
    },
    {
     "name": "stdout",
     "output_type": "stream",
     "text": [
      "Train Loss : 0.006\n",
      "Valid Loss : 3.865\n",
      "Valid Acc  : 0.265\n"
     ]
    },
    {
     "name": "stderr",
     "output_type": "stream",
     "text": [
      "100%|██████████| 5/5 [00:04<00:00,  1.14it/s]\n"
     ]
    },
    {
     "name": "stdout",
     "output_type": "stream",
     "text": [
      "Train Loss : 0.006\n",
      "Valid Loss : 3.879\n",
      "Valid Acc  : 0.264\n"
     ]
    },
    {
     "name": "stderr",
     "output_type": "stream",
     "text": [
      "100%|██████████| 5/5 [00:04<00:00,  1.13it/s]\n"
     ]
    },
    {
     "name": "stdout",
     "output_type": "stream",
     "text": [
      "Train Loss : 0.006\n",
      "Valid Loss : 3.899\n",
      "Valid Acc  : 0.266\n"
     ]
    },
    {
     "name": "stderr",
     "output_type": "stream",
     "text": [
      "100%|██████████| 5/5 [00:04<00:00,  1.13it/s]\n"
     ]
    },
    {
     "name": "stdout",
     "output_type": "stream",
     "text": [
      "Train Loss : 0.005\n",
      "Valid Loss : 3.901\n",
      "Valid Acc  : 0.275\n"
     ]
    }
   ],
   "source": [
    "train_model(rnn_classifier, loss_fn, optimizer, train_loader, test_loader, epochs)"
   ]
  },
  {
   "cell_type": "code",
   "execution_count": 118,
   "metadata": {},
   "outputs": [],
   "source": [
    "def MakePredictions(model, loader):\n",
    "    Y_shuffled, Y_preds = [], []\n",
    "    for X, Y in loader:\n",
    "        preds = model(X)\n",
    "        Y_preds.append(preds)\n",
    "        Y_shuffled.append(Y)\n",
    "    gc.collect()\n",
    "    Y_preds, Y_shuffled = torch.cat(Y_preds), torch.cat(Y_shuffled)\n",
    "\n",
    "    return Y_shuffled.detach().numpy(), F.softmax(Y_preds, dim=-1).argmax(dim=-1).detach().numpy()\n",
    "\n",
    "Y_actual, Y_preds = MakePredictions(rnn_classifier, test_loader)"
   ]
  },
  {
   "cell_type": "code",
   "execution_count": 119,
   "metadata": {},
   "outputs": [
    {
     "name": "stdout",
     "output_type": "stream",
     "text": [
      "Test Accuracy : 0.2690196078431373\n",
      "\n",
      "Classification Report : \n",
      "               precision    recall  f1-score   support\n",
      "\n",
      "ART & CULTURE       0.16      0.13      0.14       105\n",
      "     BUSINESS       0.16      0.20      0.18        90\n",
      "       COMEDY       0.33      0.47      0.39        62\n",
      "        CRIME       0.19      0.17      0.18        52\n",
      "    EDUCATION       0.39      0.42      0.41       106\n",
      "ENTERTAINMENT       0.23      0.25      0.24        96\n",
      "  ENVIRONMENT       0.28      0.27      0.27        96\n",
      "        MEDIA       0.18      0.16      0.17        67\n",
      "     POLITICS       0.30      0.29      0.30       111\n",
      "     RELIGION       0.29      0.24      0.27        94\n",
      "      SCIENCE       0.14      0.11      0.13        87\n",
      "       SPORTS       0.56      0.53      0.55       117\n",
      "         TECH       0.17      0.23      0.20        88\n",
      "        WOMEN       0.24      0.19      0.22       104\n",
      "\n",
      "     accuracy                           0.27      1275\n",
      "    macro avg       0.26      0.26      0.26      1275\n",
      " weighted avg       0.27      0.27      0.27      1275\n",
      "\n",
      "\n",
      "Confusion Matrix : \n",
      "[[14  7  5  5  6  8 18  1  4  7  5  6 11  8]\n",
      " [ 8 18  0  0 10  2  1  3 13  4  1  1 23  6]\n",
      " [ 3  3 29  0  2  9  0  6  1  1  2  2  2  2]\n",
      " [ 2  4  1  9  2  9  0  6  3  1  7  2  4  2]\n",
      " [11 10  3  2 45  2  1  2  5  9  4  4  7  1]\n",
      " [ 6  2 18  4  1 24  5 11  1  1  8  4  2  9]\n",
      " [11  7  1  3  7  7 26  0  2  4 17  4  4  3]\n",
      " [ 0  5  9  4  0  3  0 11 10  4  1  4  7  9]\n",
      " [ 1 15  5  4 11  3  4  8 32 12  1  2 11  2]\n",
      " [ 7 10  3  0  7  5  1  4 13 23  3  3  9  6]\n",
      " [12  5  0  1  6  7 23  1  2  1 10  8  5  6]\n",
      " [ 2  3  4  3  2 14  8  4  4  2  2 62  1  6]\n",
      " [ 6 20  6  8  6  4  1  0  5  8  1  1 20  2]\n",
      " [ 7  4  4  5  9  9  6  4 10  2  7  7 10 20]]\n"
     ]
    }
   ],
   "source": [
    "from sklearn.metrics import accuracy_score, classification_report, confusion_matrix\n",
    "\n",
    "print(\"Test Accuracy : {}\".format(accuracy_score(Y_actual, Y_preds)))\n",
    "print(\"\\nClassification Report : \")\n",
    "print(classification_report(Y_actual, Y_preds, target_names=target_classes))\n",
    "print(\"\\nConfusion Matrix : \")\n",
    "print(confusion_matrix(Y_actual, Y_preds))"
   ]
  },
  {
   "cell_type": "code",
   "execution_count": 120,
   "metadata": {},
   "outputs": [
    {
     "data": {
      "image/png": "[encoded data removed]",
      "text/plain": [
       "<Figure size 1000x1000 with 2 Axes>"
      ]
     },
     "metadata": {},
     "output_type": "display_data"
    }
   ],
   "source": [
    "from sklearn.metrics import confusion_matrix\n",
    "import scikitplot as skplt\n",
    "import matplotlib.pyplot as plt\n",
    "import numpy as np\n",
    "\n",
    "skplt.metrics.plot_confusion_matrix([target_classes[i] for i in Y_actual], [target_classes[i] for i in Y_preds],\n",
    "                                    normalize=True,\n",
    "                                    title=\"Confusion Matrix\",\n",
    "                                    cmap=\"Purples\",\n",
    "                                    hide_zeros=True,\n",
    "                                    figsize=(10,10)\n",
    "                                    );\n",
    "plt.xticks(rotation=90);"
   ]
  },
  {
   "attachments": {},
   "cell_type": "markdown",
   "metadata": {},
   "source": [
    "<h1> Entrainement Multi RNN"
   ]
  },
  {
   "cell_type": "code",
   "execution_count": 121,
   "metadata": {},
   "outputs": [],
   "source": [
    "epochs = 30\n",
    "learning_rate = 1e-3\n",
    "\n",
    "loss_fn = nn.CrossEntropyLoss()\n",
    "rnn_classifier = RNNClassifier2()\n",
    "optimizer = Adam(rnn_classifier.parameters(), lr=learning_rate)"
   ]
  },
  {
   "cell_type": "code",
   "execution_count": 122,
   "metadata": {},
   "outputs": [
    {
     "name": "stderr",
     "output_type": "stream",
     "text": [
      "100%|██████████| 5/5 [00:10<00:00,  2.08s/it]\n"
     ]
    },
    {
     "name": "stdout",
     "output_type": "stream",
     "text": [
      "Train Loss : 2.635\n",
      "Valid Loss : 2.652\n",
      "Valid Acc  : 0.076\n"
     ]
    },
    {
     "name": "stderr",
     "output_type": "stream",
     "text": [
      "100%|██████████| 5/5 [00:09<00:00,  1.97s/it]\n"
     ]
    },
    {
     "name": "stdout",
     "output_type": "stream",
     "text": [
      "Train Loss : 2.622\n",
      "Valid Loss : 2.626\n",
      "Valid Acc  : 0.089\n"
     ]
    },
    {
     "name": "stderr",
     "output_type": "stream",
     "text": [
      "100%|██████████| 5/5 [00:09<00:00,  1.95s/it]\n"
     ]
    },
    {
     "name": "stdout",
     "output_type": "stream",
     "text": [
      "Train Loss : 2.563\n",
      "Valid Loss : 2.599\n",
      "Valid Acc  : 0.107\n"
     ]
    },
    {
     "name": "stderr",
     "output_type": "stream",
     "text": [
      "100%|██████████| 5/5 [00:09<00:00,  1.91s/it]\n"
     ]
    },
    {
     "name": "stdout",
     "output_type": "stream",
     "text": [
      "Train Loss : 2.473\n",
      "Valid Loss : 2.539\n",
      "Valid Acc  : 0.108\n"
     ]
    },
    {
     "name": "stderr",
     "output_type": "stream",
     "text": [
      "100%|██████████| 5/5 [00:09<00:00,  1.87s/it]\n"
     ]
    },
    {
     "name": "stdout",
     "output_type": "stream",
     "text": [
      "Train Loss : 2.391\n",
      "Valid Loss : 2.529\n",
      "Valid Acc  : 0.118\n"
     ]
    },
    {
     "name": "stderr",
     "output_type": "stream",
     "text": [
      "100%|██████████| 5/5 [00:10<00:00,  2.01s/it]\n"
     ]
    },
    {
     "name": "stdout",
     "output_type": "stream",
     "text": [
      "Train Loss : 2.313\n",
      "Valid Loss : 2.524\n",
      "Valid Acc  : 0.123\n"
     ]
    },
    {
     "name": "stderr",
     "output_type": "stream",
     "text": [
      "100%|██████████| 5/5 [00:10<00:00,  2.11s/it]\n"
     ]
    },
    {
     "name": "stdout",
     "output_type": "stream",
     "text": [
      "Train Loss : 2.202\n",
      "Valid Loss : 2.530\n",
      "Valid Acc  : 0.121\n"
     ]
    },
    {
     "name": "stderr",
     "output_type": "stream",
     "text": [
      "100%|██████████| 5/5 [00:10<00:00,  2.07s/it]\n"
     ]
    },
    {
     "name": "stdout",
     "output_type": "stream",
     "text": [
      "Train Loss : 2.106\n",
      "Valid Loss : 2.586\n",
      "Valid Acc  : 0.125\n"
     ]
    },
    {
     "name": "stderr",
     "output_type": "stream",
     "text": [
      "100%|██████████| 5/5 [00:10<00:00,  2.18s/it]\n"
     ]
    },
    {
     "name": "stdout",
     "output_type": "stream",
     "text": [
      "Train Loss : 1.994\n",
      "Valid Loss : 2.694\n",
      "Valid Acc  : 0.131\n"
     ]
    },
    {
     "name": "stderr",
     "output_type": "stream",
     "text": [
      "100%|██████████| 5/5 [00:11<00:00,  2.21s/it]\n"
     ]
    },
    {
     "name": "stdout",
     "output_type": "stream",
     "text": [
      "Train Loss : 1.880\n",
      "Valid Loss : 2.735\n",
      "Valid Acc  : 0.134\n"
     ]
    },
    {
     "name": "stderr",
     "output_type": "stream",
     "text": [
      "100%|██████████| 5/5 [00:11<00:00,  2.21s/it]\n"
     ]
    },
    {
     "name": "stdout",
     "output_type": "stream",
     "text": [
      "Train Loss : 1.762\n",
      "Valid Loss : 2.857\n",
      "Valid Acc  : 0.125\n"
     ]
    },
    {
     "name": "stderr",
     "output_type": "stream",
     "text": [
      "100%|██████████| 5/5 [00:11<00:00,  2.22s/it]\n"
     ]
    },
    {
     "name": "stdout",
     "output_type": "stream",
     "text": [
      "Train Loss : 1.621\n",
      "Valid Loss : 2.936\n",
      "Valid Acc  : 0.122\n"
     ]
    },
    {
     "name": "stderr",
     "output_type": "stream",
     "text": [
      "100%|██████████| 5/5 [00:10<00:00,  2.11s/it]\n"
     ]
    },
    {
     "name": "stdout",
     "output_type": "stream",
     "text": [
      "Train Loss : 1.460\n",
      "Valid Loss : 3.111\n",
      "Valid Acc  : 0.136\n"
     ]
    },
    {
     "name": "stderr",
     "output_type": "stream",
     "text": [
      "100%|██████████| 5/5 [00:10<00:00,  2.13s/it]\n"
     ]
    },
    {
     "name": "stdout",
     "output_type": "stream",
     "text": [
      "Train Loss : 1.316\n",
      "Valid Loss : 3.242\n",
      "Valid Acc  : 0.152\n"
     ]
    },
    {
     "name": "stderr",
     "output_type": "stream",
     "text": [
      "100%|██████████| 5/5 [00:10<00:00,  2.14s/it]\n"
     ]
    },
    {
     "name": "stdout",
     "output_type": "stream",
     "text": [
      "Train Loss : 1.163\n",
      "Valid Loss : 3.411\n",
      "Valid Acc  : 0.135\n"
     ]
    },
    {
     "name": "stderr",
     "output_type": "stream",
     "text": [
      "100%|██████████| 5/5 [00:10<00:00,  2.02s/it]\n"
     ]
    },
    {
     "name": "stdout",
     "output_type": "stream",
     "text": [
      "Train Loss : 1.061\n",
      "Valid Loss : 3.575\n",
      "Valid Acc  : 0.133\n"
     ]
    },
    {
     "name": "stderr",
     "output_type": "stream",
     "text": [
      "100%|██████████| 5/5 [00:09<00:00,  1.93s/it]\n"
     ]
    },
    {
     "name": "stdout",
     "output_type": "stream",
     "text": [
      "Train Loss : 0.915\n",
      "Valid Loss : 3.729\n",
      "Valid Acc  : 0.140\n"
     ]
    },
    {
     "name": "stderr",
     "output_type": "stream",
     "text": [
      "100%|██████████| 5/5 [00:09<00:00,  1.99s/it]\n"
     ]
    },
    {
     "name": "stdout",
     "output_type": "stream",
     "text": [
      "Train Loss : 0.780\n",
      "Valid Loss : 3.983\n",
      "Valid Acc  : 0.138\n"
     ]
    },
    {
     "name": "stderr",
     "output_type": "stream",
     "text": [
      "100%|██████████| 5/5 [00:09<00:00,  1.92s/it]\n"
     ]
    },
    {
     "name": "stdout",
     "output_type": "stream",
     "text": [
      "Train Loss : 0.651\n",
      "Valid Loss : 4.082\n",
      "Valid Acc  : 0.125\n"
     ]
    },
    {
     "name": "stderr",
     "output_type": "stream",
     "text": [
      "100%|██████████| 5/5 [00:09<00:00,  1.92s/it]\n"
     ]
    },
    {
     "name": "stdout",
     "output_type": "stream",
     "text": [
      "Train Loss : 0.550\n",
      "Valid Loss : 4.291\n",
      "Valid Acc  : 0.140\n"
     ]
    },
    {
     "name": "stderr",
     "output_type": "stream",
     "text": [
      "100%|██████████| 5/5 [00:09<00:00,  1.94s/it]\n"
     ]
    },
    {
     "name": "stdout",
     "output_type": "stream",
     "text": [
      "Train Loss : 0.455\n",
      "Valid Loss : 4.455\n",
      "Valid Acc  : 0.125\n"
     ]
    },
    {
     "name": "stderr",
     "output_type": "stream",
     "text": [
      "100%|██████████| 5/5 [00:09<00:00,  1.93s/it]\n"
     ]
    },
    {
     "name": "stdout",
     "output_type": "stream",
     "text": [
      "Train Loss : 0.389\n",
      "Valid Loss : 4.626\n",
      "Valid Acc  : 0.131\n"
     ]
    },
    {
     "name": "stderr",
     "output_type": "stream",
     "text": [
      "100%|██████████| 5/5 [00:10<00:00,  2.11s/it]\n"
     ]
    },
    {
     "name": "stdout",
     "output_type": "stream",
     "text": [
      "Train Loss : 0.363\n",
      "Valid Loss : 4.756\n",
      "Valid Acc  : 0.142\n"
     ]
    },
    {
     "name": "stderr",
     "output_type": "stream",
     "text": [
      "100%|██████████| 5/5 [00:10<00:00,  2.10s/it]\n"
     ]
    },
    {
     "name": "stdout",
     "output_type": "stream",
     "text": [
      "Train Loss : 0.331\n",
      "Valid Loss : 4.941\n",
      "Valid Acc  : 0.148\n"
     ]
    },
    {
     "name": "stderr",
     "output_type": "stream",
     "text": [
      "100%|██████████| 5/5 [00:10<00:00,  2.18s/it]\n"
     ]
    },
    {
     "name": "stdout",
     "output_type": "stream",
     "text": [
      "Train Loss : 0.277\n",
      "Valid Loss : 4.927\n",
      "Valid Acc  : 0.142\n"
     ]
    },
    {
     "name": "stderr",
     "output_type": "stream",
     "text": [
      "100%|██████████| 5/5 [00:10<00:00,  2.16s/it]\n"
     ]
    },
    {
     "name": "stdout",
     "output_type": "stream",
     "text": [
      "Train Loss : 0.249\n",
      "Valid Loss : 5.027\n",
      "Valid Acc  : 0.136\n"
     ]
    },
    {
     "name": "stderr",
     "output_type": "stream",
     "text": [
      "100%|██████████| 5/5 [00:10<00:00,  2.16s/it]\n"
     ]
    },
    {
     "name": "stdout",
     "output_type": "stream",
     "text": [
      "Train Loss : 0.212\n",
      "Valid Loss : 5.175\n",
      "Valid Acc  : 0.145\n"
     ]
    },
    {
     "name": "stderr",
     "output_type": "stream",
     "text": [
      "100%|██████████| 5/5 [00:10<00:00,  2.18s/it]\n"
     ]
    },
    {
     "name": "stdout",
     "output_type": "stream",
     "text": [
      "Train Loss : 0.176\n",
      "Valid Loss : 5.227\n",
      "Valid Acc  : 0.140\n"
     ]
    },
    {
     "name": "stderr",
     "output_type": "stream",
     "text": [
      "100%|██████████| 5/5 [00:10<00:00,  2.08s/it]\n"
     ]
    },
    {
     "name": "stdout",
     "output_type": "stream",
     "text": [
      "Train Loss : 0.139\n",
      "Valid Loss : 5.239\n",
      "Valid Acc  : 0.133\n"
     ]
    },
    {
     "name": "stderr",
     "output_type": "stream",
     "text": [
      "100%|██████████| 5/5 [00:10<00:00,  2.11s/it]\n"
     ]
    },
    {
     "name": "stdout",
     "output_type": "stream",
     "text": [
      "Train Loss : 0.122\n",
      "Valid Loss : 5.381\n",
      "Valid Acc  : 0.143\n"
     ]
    }
   ],
   "source": [
    "train_model(rnn_classifier, loss_fn, optimizer, train_loader, test_loader, epochs)"
   ]
  },
  {
   "cell_type": "code",
   "execution_count": 123,
   "metadata": {},
   "outputs": [
    {
     "name": "stdout",
     "output_type": "stream",
     "text": [
      "Test Accuracy : 0.2690196078431373\n",
      "\n",
      "Classification Report : \n",
      "               precision    recall  f1-score   support\n",
      "\n",
      "ART & CULTURE       0.16      0.13      0.14       105\n",
      "     BUSINESS       0.16      0.20      0.18        90\n",
      "       COMEDY       0.33      0.47      0.39        62\n",
      "        CRIME       0.19      0.17      0.18        52\n",
      "    EDUCATION       0.39      0.42      0.41       106\n",
      "ENTERTAINMENT       0.23      0.25      0.24        96\n",
      "  ENVIRONMENT       0.28      0.27      0.27        96\n",
      "        MEDIA       0.18      0.16      0.17        67\n",
      "     POLITICS       0.30      0.29      0.30       111\n",
      "     RELIGION       0.29      0.24      0.27        94\n",
      "      SCIENCE       0.14      0.11      0.13        87\n",
      "       SPORTS       0.56      0.53      0.55       117\n",
      "         TECH       0.17      0.23      0.20        88\n",
      "        WOMEN       0.24      0.19      0.22       104\n",
      "\n",
      "     accuracy                           0.27      1275\n",
      "    macro avg       0.26      0.26      0.26      1275\n",
      " weighted avg       0.27      0.27      0.27      1275\n",
      "\n",
      "\n",
      "Confusion Matrix : \n",
      "[[14  7  5  5  6  8 18  1  4  7  5  6 11  8]\n",
      " [ 8 18  0  0 10  2  1  3 13  4  1  1 23  6]\n",
      " [ 3  3 29  0  2  9  0  6  1  1  2  2  2  2]\n",
      " [ 2  4  1  9  2  9  0  6  3  1  7  2  4  2]\n",
      " [11 10  3  2 45  2  1  2  5  9  4  4  7  1]\n",
      " [ 6  2 18  4  1 24  5 11  1  1  8  4  2  9]\n",
      " [11  7  1  3  7  7 26  0  2  4 17  4  4  3]\n",
      " [ 0  5  9  4  0  3  0 11 10  4  1  4  7  9]\n",
      " [ 1 15  5  4 11  3  4  8 32 12  1  2 11  2]\n",
      " [ 7 10  3  0  7  5  1  4 13 23  3  3  9  6]\n",
      " [12  5  0  1  6  7 23  1  2  1 10  8  5  6]\n",
      " [ 2  3  4  3  2 14  8  4  4  2  2 62  1  6]\n",
      " [ 6 20  6  8  6  4  1  0  5  8  1  1 20  2]\n",
      " [ 7  4  4  5  9  9  6  4 10  2  7  7 10 20]]\n"
     ]
    }
   ],
   "source": [
    "print(\"Test Accuracy : {}\".format(accuracy_score(Y_actual, Y_preds)))\n",
    "print(\"\\nClassification Report : \")\n",
    "print(classification_report(Y_actual, Y_preds, target_names=target_classes))\n",
    "print(\"\\nConfusion Matrix : \")\n",
    "print(confusion_matrix(Y_actual, Y_preds))"
   ]
  },
  {
   "cell_type": "code",
   "execution_count": 124,
   "metadata": {},
   "outputs": [
    {
     "data": {
      "image/png": "[encoded data removed]",
      "text/plain": [
       "<Figure size 1000x1000 with 2 Axes>"
      ]
     },
     "metadata": {},
     "output_type": "display_data"
    }
   ],
   "source": [
    "skplt.metrics.plot_confusion_matrix([target_classes[i] for i in Y_actual], [target_classes[i] for i in Y_preds],\n",
    "                                    normalize=True,\n",
    "                                    title=\"Confusion Matrix\",\n",
    "                                    cmap=\"Purples\",\n",
    "                                    hide_zeros=True,\n",
    "                                    figsize=(10,10)\n",
    "                                    );\n",
    "plt.xticks(rotation=90);"
   ]
  }
 ],
 "metadata": {
  "kernelspec": {
   "display_name": "base",
   "language": "python",
   "name": "python3"
  },
  "language_info": {
   "codemirror_mode": {
    "name": "ipython",
    "version": 3
   },
   "file_extension": ".py",
   "mimetype": "text/x-python",
   "name": "python",
   "nbconvert_exporter": "python",
   "pygments_lexer": "ipython3",
   "version": "3.9.13"
  },
  "orig_nbformat": 4,
  "vscode": {
   "interpreter": {
    "hash": "dc19f1aca79640f29e4f4d7df31b19f58d3c80ef392b15c9e85b5fe0f1809e47"
   }
  }
 },
 "nbformat": 4,
 "nbformat_minor": 2
}
